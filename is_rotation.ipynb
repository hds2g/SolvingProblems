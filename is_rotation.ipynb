{
 "cells": [
  {
   "cell_type": "code",
   "execution_count": 11,
   "metadata": {},
   "outputs": [],
   "source": [
    "# Implement your function below.\n",
    "def is_rotation(list1, list2):\n",
    "    newList = []\n",
    "    for n in range(len(list1)-1):\n",
    "        newList = list1[n:]\n",
    "        for i in range(n):\n",
    "            newList.append(list1[i])\n",
    "        if newList == list2:\n",
    "            return True\n",
    "    return False\n",
    "\n",
    "# NOTE: The following input values will be used for testing your solution.\n",
    "list1 = [1, 2, 3, 4, 5, 6, 7]\n",
    "list2a = [4, 5, 6, 7, 8, 1, 2, 3]\n",
    "# is_rotation(list1, list2a) should return False.\n",
    "list2b = [4, 5, 6, 7, 1, 2, 3]\n",
    "# is_rotation(list1, list2b) should return True.\n",
    "list2c = [4, 5, 6, 9, 1, 2, 3]\n",
    "# is_rotation(list1, list2c) should return False.\n",
    "list2d = [4, 6, 5, 7, 1, 2, 3]\n",
    "# is_rotation(list1, list2d) should return False.\n",
    "list2e = [4, 5, 6, 7, 0, 2, 3]\n",
    "# is_rotation(list1, list2d) should return False.\n",
    "list2f = [1, 2, 3, 4, 5, 6, 7]\n",
    "# is_rotation(list1, list2f) should return True.\n"
   ]
  },
  {
   "cell_type": "code",
   "execution_count": 14,
   "metadata": {},
   "outputs": [
    {
     "data": {
      "text/plain": [
       "True"
      ]
     },
     "execution_count": 14,
     "metadata": {},
     "output_type": "execute_result"
    }
   ],
   "source": [
    "is_rotation(list1, list2b)"
   ]
  },
  {
   "cell_type": "code",
   "execution_count": null,
   "metadata": {
    "collapsed": true
   },
   "outputs": [],
   "source": []
  }
 ],
 "metadata": {
  "kernelspec": {
   "display_name": "Python 3",
   "language": "python",
   "name": "python3"
  },
  "language_info": {
   "codemirror_mode": {
    "name": "ipython",
    "version": 3
   },
   "file_extension": ".py",
   "mimetype": "text/x-python",
   "name": "python",
   "nbconvert_exporter": "python",
   "pygments_lexer": "ipython3",
   "version": "3.5.4"
  }
 },
 "nbformat": 4,
 "nbformat_minor": 2
}
