{
 "cells": [
  {
   "cell_type": "code",
   "execution_count": 2,
   "metadata": {},
   "outputs": [
    {
     "data": {
      "text/plain": [
       "'\\n아래의 이진트리를 반전시킬 경우,\\n     1\\n   /     2     3\\n / \\\\   / 4   5 6   7\\n\\n아래의 이진트리로 변경됩니다.\\n     1\\n   /     3     2\\n / \\\\   / 7   6 5   4\\n\\n------------------------------------\\n\\n아래의 이진트리를 반전 시킬 경우,\\n     1\\n   /     2     3\\n /       4         7\\n\\n------------\\n아래의 이진트리와 같습니다.\\n     1\\n   /     3     2\\n /       7         4\\n\\n시간복잡도: O(n)\\n공간복잡도: O(1)\\n'"
      ]
     },
     "execution_count": 2,
     "metadata": {},
     "output_type": "execute_result"
    }
   ],
   "source": [
    "\"\"\"\n",
    "아래의 이진트리를 반전시킬 경우,\n",
    "     1\n",
    "   /   \\\n",
    "  2     3\n",
    " / \\   / \\\n",
    "4   5 6   7\n",
    "\n",
    "아래의 이진트리로 변경됩니다.\n",
    "     1\n",
    "   /   \\\n",
    "  3     2\n",
    " / \\   / \\\n",
    "7   6 5   4\n",
    "\n",
    "------------------------------------\n",
    "\n",
    "아래의 이진트리를 반전 시킬 경우,\n",
    "     1\n",
    "   /   \\\n",
    "  2     3\n",
    " /       \\\n",
    "4         7\n",
    "\n",
    "------------\n",
    "아래의 이진트리와 같습니다.\n",
    "     1\n",
    "   /   \\\n",
    "  3     2\n",
    " /       \\\n",
    "7         4\n",
    "\n",
    "시간복잡도: O(n)\n",
    "공간복잡도: O(1)\n",
    "\"\"\""
   ]
  },
  {
   "cell_type": "code",
   "execution_count": 3,
   "metadata": {
    "collapsed": true
   },
   "outputs": [],
   "source": [
    "class TreeNode:\n",
    "    def __init__(self,x):\n",
    "        self.val = x\n",
    "        self.left = None\n",
    "        self.right = None\n",
    "    "
   ]
  },
  {
   "cell_type": "code",
   "execution_count": 4,
   "metadata": {
    "collapsed": true
   },
   "outputs": [],
   "source": [
    "def invertTree(node):\n",
    "    if node is None:\n",
    "        return None\n",
    "    \n",
    "    node.left, node.right = node.right, node.left\n",
    "    \n",
    "    invertTree(node.left)\n",
    "    invertTree(node.right)\n",
    "    \n",
    "    return node"
   ]
  },
  {
   "cell_type": "code",
   "execution_count": 5,
   "metadata": {
    "collapsed": true
   },
   "outputs": [],
   "source": [
    "def printTree(root): # pre-order\n",
    "    print(root.val)\n",
    "    if root.left:\n",
    "        printTree(root.left)\n",
    "    if root.right:\n",
    "        printTree(root.right)"
   ]
  },
  {
   "cell_type": "code",
   "execution_count": 6,
   "metadata": {},
   "outputs": [
    {
     "data": {
      "text/plain": [
       "<__main__.TreeNode at 0x102802668>"
      ]
     },
     "execution_count": 6,
     "metadata": {},
     "output_type": "execute_result"
    }
   ],
   "source": [
    "sample_tree = TreeNode(1)\n",
    "sample_tree.left = TreeNode(2)\n",
    "sample_tree.right = TreeNode(3)\n",
    "sample_tree.left.left = TreeNode(4)\n",
    "sample_tree.left.right = TreeNode(5)\n",
    "sample_tree.right.left = TreeNode(6)\n",
    "sample_tree.right.right = TreeNode(7)\n",
    "\n",
    "invertTree(sample_tree)\n"
   ]
  },
  {
   "cell_type": "code",
   "execution_count": 7,
   "metadata": {},
   "outputs": [
    {
     "name": "stdout",
     "output_type": "stream",
     "text": [
      "1\n",
      "3\n",
      "7\n",
      "6\n",
      "2\n",
      "5\n",
      "4\n"
     ]
    }
   ],
   "source": [
    "printTree(sample_tree)"
   ]
  },
  {
   "cell_type": "code",
   "execution_count": null,
   "metadata": {
    "collapsed": true
   },
   "outputs": [],
   "source": []
  }
 ],
 "metadata": {
  "kernelspec": {
   "display_name": "Python 3",
   "language": "python",
   "name": "python3"
  },
  "language_info": {
   "codemirror_mode": {
    "name": "ipython",
    "version": 3
   },
   "file_extension": ".py",
   "mimetype": "text/x-python",
   "name": "python",
   "nbconvert_exporter": "python",
   "pygments_lexer": "ipython3",
   "version": "3.5.4"
  }
 },
 "nbformat": 4,
 "nbformat_minor": 2
}
