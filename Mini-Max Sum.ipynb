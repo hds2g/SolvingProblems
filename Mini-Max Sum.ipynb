{
 "cells": [
  {
   "cell_type": "markdown",
   "metadata": {},
   "source": [
    "Given five positive integers, find the minimum and maximum values that can be calculated by summing exactly four of the five integers. Then print the respective minimum and maximum values as a single line of two space-separated long integers.\n",
    "\n",
    "Input Format\n",
    "\n",
    "A single line of five space-separated integers.\n",
    "\n",
    "Constraints\n",
    "\n",
    "Each integer is in the inclusive range .\n",
    "Output Format\n",
    "\n",
    "Print two space-separated long integers denoting the respective minimum and maximum values that can be calculated by summing exactly four of the five integers. (The output can be greater than a 32 bit integer.)\n",
    "\n",
    "Sample Input\n",
    "\n",
    "1 2 3 4 5\n",
    "Sample Output\n",
    "\n",
    "10 14\n",
    "Explanation\n",
    "\n",
    "Our initial numbers are , , , , and . We can calculate the following sums using four of the five integers:\n",
    "\n",
    "Hints: Beware of integer overflow! Use 64-bit Integer."
   ]
  },
  {
   "cell_type": "code",
   "execution_count": 5,
   "metadata": {},
   "outputs": [
    {
     "name": "stdout",
     "output_type": "stream",
     "text": [
      "10 14\n"
     ]
    }
   ],
   "source": [
    "#!/bin/python3\n",
    "\n",
    "import math\n",
    "import os\n",
    "import random\n",
    "import re\n",
    "import sys\n",
    "\n",
    "# Complete the miniMaxSum function below.\n",
    "def miniMaxSum(arr):\n",
    "    arr = sorted(arr)\n",
    "    min = arr[0]+arr[1]+arr[2]+arr[3]\n",
    "    max = arr[1]+arr[2]+arr[3]+arr[4]\n",
    "    print(\"%d %d\" % (min,max))\n",
    "    \n",
    "    \n",
    "    \n",
    "\n",
    "if __name__ == '__main__':\n",
    "    arr = [5,4,3,2,1]\n",
    "\n",
    "    miniMaxSum(arr)"
   ]
  },
  {
   "cell_type": "code",
   "execution_count": 30,
   "metadata": {
    "collapsed": true
   },
   "outputs": [],
   "source": [
    "def miniMaxSum2(arr):\n",
    "    sums = tuple(sum(arr[:i] + arr[i + 1:]) for i in range(len(arr)))\n",
    "    print('%i %i' % (min(sums), max(sums)))"
   ]
  },
  {
   "cell_type": "code",
   "execution_count": 31,
   "metadata": {},
   "outputs": [
    {
     "name": "stdout",
     "output_type": "stream",
     "text": [
      "10 14\n"
     ]
    }
   ],
   "source": [
    "arr = [5,4,3,2,1]\n",
    "\n",
    "miniMaxSum2(arr)"
   ]
  },
  {
   "cell_type": "code",
   "execution_count": 55,
   "metadata": {},
   "outputs": [
    {
     "name": "stdout",
     "output_type": "stream",
     "text": [
      "10 14\n"
     ]
    }
   ],
   "source": [
    "arr = [5,4,3,2,1]\n",
    "def miniMaxSum3(arr):\n",
    "    total = sum(arr)\n",
    "    mini = min(arr)\n",
    "    maxi = max(arr)\n",
    "    print(total-maxi, total-mini)\n",
    "    \n",
    "miniMaxSum3(arr) "
   ]
  },
  {
   "cell_type": "code",
   "execution_count": 43,
   "metadata": {},
   "outputs": [
    {
     "name": "stdout",
     "output_type": "stream",
     "text": [
      "[4, 3, 2, 1]\n",
      "[5, 3, 2, 1]\n",
      "[5, 4, 2, 1]\n",
      "[5, 4, 3, 1]\n"
     ]
    }
   ],
   "source": [
    "arr = [5,4,3,2,1]\n",
    "\n",
    "#miniMaxSum3(arr)\n",
    "\n",
    "\n",
    "print(arr[:0] + arr[0+1:])\n",
    "print(arr[:1] + arr[1+1:])\n",
    "print(arr[:2] + arr[2+1:])\n",
    "print(arr[:3] + arr[3+1:])"
   ]
  },
  {
   "cell_type": "markdown",
   "metadata": {},
   "source": [
    "전체 합계에서 min/max를 빼면 됨\n"
   ]
  },
  {
   "cell_type": "code",
   "execution_count": null,
   "metadata": {
    "collapsed": true
   },
   "outputs": [],
   "source": []
  }
 ],
 "metadata": {
  "kernelspec": {
   "display_name": "Python 3",
   "language": "python",
   "name": "python3"
  },
  "language_info": {
   "codemirror_mode": {
    "name": "ipython",
    "version": 3
   },
   "file_extension": ".py",
   "mimetype": "text/x-python",
   "name": "python",
   "nbconvert_exporter": "python",
   "pygments_lexer": "ipython3",
   "version": "3.5.4"
  }
 },
 "nbformat": 4,
 "nbformat_minor": 2
}
