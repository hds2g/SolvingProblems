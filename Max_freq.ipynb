{
 "cells": [
  {
   "cell_type": "code",
   "execution_count": 5,
   "metadata": {
    "collapsed": true
   },
   "outputs": [],
   "source": [
    "def top_k_frequent_number(nums,k):\n",
    "    num_map = {1:0,2:0,3:0,4:0,5:0,6:0}\n",
    "\n",
    "    for num in nums:\n",
    "        if num > 6:\n",
    "            return 0\n",
    "        num_map[num] += 1\n",
    "\n",
    "    ret = []\n",
    "    while k > 0:\n",
    "        max_freq = 0\n",
    "        max_key = 0\n",
    "        for key in num_map:\n",
    "            if num_map[key] > max_freq:\n",
    "                max_freq = num_map[key]\n",
    "                max_key = key\n",
    "        ret.append(max_key)\n",
    "        del num_map[max_key]\n",
    "        k -= 1\n",
    "    return ret"
   ]
  },
  {
   "cell_type": "code",
   "execution_count": 7,
   "metadata": {},
   "outputs": [
    {
     "name": "stdout",
     "output_type": "stream",
     "text": [
      "[2, 3]\n"
     ]
    }
   ],
   "source": [
    "print(top_k_frequent_number([2,2,3,2,2,4,3,5,4,4,3,6,6,5], 2))"
   ]
  },
  {
   "cell_type": "code",
   "execution_count": null,
   "metadata": {
    "collapsed": true
   },
   "outputs": [],
   "source": []
  }
 ],
 "metadata": {
  "kernelspec": {
   "display_name": "Python 3",
   "language": "python",
   "name": "python3"
  },
  "language_info": {
   "codemirror_mode": {
    "name": "ipython",
    "version": 3
   },
   "file_extension": ".py",
   "mimetype": "text/x-python",
   "name": "python",
   "nbconvert_exporter": "python",
   "pygments_lexer": "ipython3",
   "version": "3.5.4"
  }
 },
 "nbformat": 4,
 "nbformat_minor": 2
}
