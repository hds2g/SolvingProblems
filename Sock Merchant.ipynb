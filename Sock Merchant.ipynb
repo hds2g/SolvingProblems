{
 "cells": [
  {
   "cell_type": "code",
   "execution_count": 3,
   "metadata": {},
   "outputs": [
    {
     "name": "stdout",
     "output_type": "stream",
     "text": [
      "3\n"
     ]
    }
   ],
   "source": [
    "#!/bin/python3\n",
    "\n",
    "import math\n",
    "import os\n",
    "import random\n",
    "import re\n",
    "import sys\n",
    "\n",
    "# Complete the sockMerchant function below.\n",
    "def sockMerchant(n, ar):\n",
    "    if n < 2:\n",
    "        return 0\n",
    "    \n",
    "    hash = {}\n",
    "    ret = 0\n",
    "    pairs = 0\n",
    "    \n",
    "    for i in ar:\n",
    "        if i not in hash:\n",
    "            hash[i] = 1\n",
    "        else:\n",
    "            hash[i] += 1\n",
    "            if hash[i] % 2 == 0:\n",
    "                pairs = hash[i] //2\n",
    "                ret += pairs\n",
    "                hash[i] -= pairs*2\n",
    "            \n",
    "    return ret\n",
    "\n",
    "if __name__ == '__main__':\n",
    "    \n",
    "\n",
    "    n = 9\n",
    "    ar = [10, 20, 20, 10, 10, 30, 50, 10, 20]\n",
    "    print(sockMerchant(n, ar))\n",
    "\n",
    "    \n"
   ]
  },
  {
   "cell_type": "code",
   "execution_count": null,
   "metadata": {
    "collapsed": true
   },
   "outputs": [],
   "source": []
  }
 ],
 "metadata": {
  "kernelspec": {
   "display_name": "Python 3",
   "language": "python",
   "name": "python3"
  },
  "language_info": {
   "codemirror_mode": {
    "name": "ipython",
    "version": 3
   },
   "file_extension": ".py",
   "mimetype": "text/x-python",
   "name": "python",
   "nbconvert_exporter": "python",
   "pygments_lexer": "ipython3",
   "version": "3.5.4"
  }
 },
 "nbformat": 4,
 "nbformat_minor": 2
}
