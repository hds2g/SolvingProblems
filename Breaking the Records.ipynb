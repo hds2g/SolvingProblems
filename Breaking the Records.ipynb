{
 "cells": [
  {
   "cell_type": "code",
   "execution_count": 18,
   "metadata": {},
   "outputs": [
    {
     "name": "stdout",
     "output_type": "stream",
     "text": [
      "4\n",
      "21\n",
      "36\n",
      "10\n",
      "28\n",
      "35\n",
      "5\n",
      "24\n",
      "42\n",
      "4 0\n"
     ]
    }
   ],
   "source": [
    "# Complete the breakingRecords function below.\n",
    "def breakingRecords(scores):\n",
    "    min_count , max_count = 0,0\n",
    "\n",
    "    min_value = scores[0]\n",
    "    max_value = scores[0]\n",
    "    \n",
    "    for n in scores[1:]:\n",
    "        print(n)\n",
    "        if min_value < n:\n",
    "            min_count += 1\n",
    "            min_value = n\n",
    "        if max_value > n:\n",
    "            max_count += 1\n",
    "            max_value = n\n",
    "        \n",
    "    return min_count, max_count\n",
    "\n",
    "scores = [3, 4, 21, 36, 10, 28, 35, 5, 24, 42]\n",
    "a,b = breakingRecords(scores)\n",
    "print(a,b)"
   ]
  },
  {
   "cell_type": "code",
   "execution_count": 17,
   "metadata": {},
   "outputs": [
    {
     "data": {
      "text/plain": [
       "[4, 21, 36, 10, 28, 35, 5, 24, 42]"
      ]
     },
     "execution_count": 17,
     "metadata": {},
     "output_type": "execute_result"
    }
   ],
   "source": [
    "scores = [3, 4, 21, 36, 10, 28, 35, 5, 24, 42]\n",
    "scores[1:]"
   ]
  },
  {
   "cell_type": "code",
   "execution_count": null,
   "metadata": {
    "collapsed": true
   },
   "outputs": [],
   "source": []
  }
 ],
 "metadata": {
  "kernelspec": {
   "display_name": "Python 3",
   "language": "python",
   "name": "python3"
  },
  "language_info": {
   "codemirror_mode": {
    "name": "ipython",
    "version": 3
   },
   "file_extension": ".py",
   "mimetype": "text/x-python",
   "name": "python",
   "nbconvert_exporter": "python",
   "pygments_lexer": "ipython3",
   "version": "3.5.4"
  }
 },
 "nbformat": 4,
 "nbformat_minor": 2
}
