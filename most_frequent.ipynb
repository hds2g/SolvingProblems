{
 "cells": [
  {
   "cell_type": "code",
   "execution_count": 45,
   "metadata": {},
   "outputs": [],
   "source": [
    "\n",
    "# Implement your function below.\n",
    "def most_frequent(arr):\n",
    "    if not arr:\n",
    "        return None\n",
    "    \n",
    "    mf_dict = {}\n",
    "\n",
    "    '''\n",
    "    # need to dict init\n",
    "    for n in arr:\n",
    "        #print(n)\n",
    "        mf_dict[n] = 0\n",
    "    ''' \n",
    "    \n",
    "    #print(mf_dict)\n",
    "    max_value = may_key = 0\n",
    "    for n in arr:\n",
    "        if n not in mf_dict:\n",
    "            mf_dict[n] = 1\n",
    "        else:\n",
    "            mf_dict[n] += 1\n",
    "            \n",
    "        if mf_dict[n] > max_value:\n",
    "            max_value = mf_dict[n]\n",
    "            max_key = n\n",
    "    \n",
    "    '''\n",
    "    for key, value in mf_dict.items():\n",
    "        if max_value < value:\n",
    "            max_value = value\n",
    "            max_key = key\n",
    "    '''     \n",
    "    return max_key\n",
    "\n",
    "# NOTE: The following input values will be used for testing your solution.\n",
    "# most_frequent(list1) should return 1\n",
    "list1 = [1, 3, 1, 3, 2, 1]\n",
    "# most_frequent(list2) should return 3\n",
    "list2 = [3, 3, 1, 3, 2, 1]\n",
    "# most_frequent(list3) should return None\n",
    "list3 = []\n",
    "# most_frequent(list4) should return 0\n",
    "list4 = [0]\n",
    "# most_frequent(list5) should return -1\n",
    "list5 = [0, -1, 10, 10, -1, 10, -1, -1, -1, 1]\n"
   ]
  },
  {
   "cell_type": "code",
   "execution_count": 46,
   "metadata": {},
   "outputs": [
    {
     "name": "stdout",
     "output_type": "stream",
     "text": [
      "3\n"
     ]
    }
   ],
   "source": [
    "print(most_frequent(list2))"
   ]
  },
  {
   "cell_type": "code",
   "execution_count": 42,
   "metadata": {},
   "outputs": [
    {
     "name": "stdout",
     "output_type": "stream",
     "text": [
      "a\n"
     ]
    }
   ],
   "source": [
    "dict = {}\n",
    "if 3 not in dict:\n",
    "    print(\"a\")\n",
    "else:\n",
    "    print(\"b\")"
   ]
  },
  {
   "cell_type": "code",
   "execution_count": null,
   "metadata": {
    "collapsed": true
   },
   "outputs": [],
   "source": []
  }
 ],
 "metadata": {
  "kernelspec": {
   "display_name": "Python 3",
   "language": "python",
   "name": "python3"
  },
  "language_info": {
   "codemirror_mode": {
    "name": "ipython",
    "version": 3
   },
   "file_extension": ".py",
   "mimetype": "text/x-python",
   "name": "python",
   "nbconvert_exporter": "python",
   "pygments_lexer": "ipython3",
   "version": "3.5.4"
  }
 },
 "nbformat": 4,
 "nbformat_minor": 2
}
