{
 "cells": [
  {
   "cell_type": "markdown",
   "metadata": {},
   "source": [
    "# 문제\n",
    "Sample Input\n",
    "\n",
    "2 3\n",
    "\n",
    "a=2 4\n",
    "\n",
    "b=16 32 96\n",
    "\n",
    "Sample Output\n",
    "\n",
    "3\n",
    "\n",
    "a가 전부 약수가 되고\n",
    "b가 전부 배수가 되는 정수는 몇개?\n",
    "\n",
    "4, 8, 16 : 약수 1,2,4\n",
    "           16, 32, 96는 4의 배수, 8의 배수, 16의 배수\n",
    "           \n",
    "           \n",
    "----------\n",
    "## 최대공약수 (Greatest Common Factor, GCF)\n",
    "\n",
    "두 개 이상의 수가 공통으로 가지고 있는 약수 중 가장 큰 수\n",
    "\n",
    "8의 약수 : 1, 2, 4, 8\n",
    "12의 약수 : 1, 2, 3, 4, 6, 12\n",
    "8과 12의 최대공약수 : 4\n",
    "\n",
    "\n",
    "## 최소공배수 (the Least Common Multiple, LCM)\n",
    "\n",
    "두 개 이상의 수가 공통으로 가지는 배수 중 가장 작은 수 \n",
    "\n",
    "3의 배수 : 3, 6, 9, 12, 15..\n",
    "\n",
    "5의 배수  5, 10, 15, 20..\n",
    "\n",
    "3과 5의 최소공배수 : 15\n",
    "\n",
    "\n",
    "## 서로소 (relative prime)\n",
    "\n",
    "1 외의 공약수를 갖지 않는 두 수 \n",
    "\n",
    "ex) 7, 11 는 1 외의 공약수가 없으므로 서로소이다.\n"
   ]
  },
  {
   "cell_type": "code",
   "execution_count": 5,
   "metadata": {},
   "outputs": [
    {
     "name": "stdout",
     "output_type": "stream",
     "text": [
      "[3, 12.0]\n"
     ]
    }
   ],
   "source": [
    "\n",
    "def gcdlcm(a, b):\n",
    "    return [math.gcd(a,b), a*b/math.gcd(a,b)]\n",
    "\n",
    "print(gcdlcm(3,12))"
   ]
  },
  {
   "cell_type": "code",
   "execution_count": 8,
   "metadata": {},
   "outputs": [
    {
     "data": {
      "text/plain": [
       "8"
      ]
     },
     "execution_count": 8,
     "metadata": {},
     "output_type": "execute_result"
    }
   ],
   "source": [
    "a=16\n",
    "b=24\n",
    "math.gcd(a,b)"
   ]
  },
  {
   "cell_type": "code",
   "execution_count": 9,
   "metadata": {},
   "outputs": [
    {
     "data": {
      "text/plain": [
       "48.0"
      ]
     },
     "execution_count": 9,
     "metadata": {},
     "output_type": "execute_result"
    }
   ],
   "source": [
    "a*b/math.gcd(a,b)"
   ]
  },
  {
   "cell_type": "code",
   "execution_count": 18,
   "metadata": {
    "collapsed": true
   },
   "outputs": [],
   "source": [
    "def gcdlcm(a, b):\n",
    "    c, d = max(a, b), min(a, b)\n",
    "    t = 1\n",
    "    while t > 0:\n",
    "        print(c,d)\n",
    "        t = c % d\n",
    "        c, d = d, t\n",
    "    answer = [c, int(a*b/c)]\n",
    "\n",
    "    return answer\n"
   ]
  },
  {
   "cell_type": "code",
   "execution_count": 20,
   "metadata": {},
   "outputs": [
    {
     "name": "stdout",
     "output_type": "stream",
     "text": [
      "16 24\n",
      "24 16\n",
      "16 8\n",
      "[8, 48]\n"
     ]
    }
   ],
   "source": [
    "print(gcdlcm(16,24))"
   ]
  },
  {
   "cell_type": "code",
   "execution_count": 42,
   "metadata": {},
   "outputs": [
    {
     "name": "stdout",
     "output_type": "stream",
     "text": [
      "4\n",
      "16\n",
      "\n",
      "\n",
      "[1, 1, 1]\n",
      "3\n"
     ]
    }
   ],
   "source": [
    "\n",
    "import os\n",
    "import sys\n",
    "from functools import reduce\n",
    "import math\n",
    "# Complete the getTotalX function below.\n",
    "#\n",
    "def getTotalX(a, b):\n",
    "    # a의 최소공배수\n",
    "    lcm_a = reduce(lambda x,y: x*y//math.gcd(x,y), a)\n",
    "    print(lcm_a)\n",
    "    \n",
    "    # b의 최대공약수\n",
    "    gcd_b = reduce(math.gcd, b)\n",
    "    print(gcd_b)\n",
    "    print(\"\")\n",
    "    \n",
    "    li = [1 for x in range(lcm_a,gcd_b+1,lcm_a) if gcd_b%x==0]\n",
    "    print(li)\n",
    "    return (sum(1 for x in range(lcm_a,gcd_b+1,lcm_a) if gcd_b%x==0))\n",
    "\n",
    "if __name__ == '__main__':\n",
    "    n = 2\n",
    "    m = 3\n",
    "    a = [2,4]\n",
    "    b = [16,32,96]\n",
    "\n",
    "    total = getTotalX(a, b)\n",
    "    print(total)"
   ]
  },
  {
   "cell_type": "code",
   "execution_count": 39,
   "metadata": {
    "collapsed": true
   },
   "outputs": [],
   "source": [
    "a = [1,2,3,4]"
   ]
  },
  {
   "cell_type": "code",
   "execution_count": 40,
   "metadata": {},
   "outputs": [
    {
     "data": {
      "text/plain": [
       "10"
      ]
     },
     "execution_count": 40,
     "metadata": {},
     "output_type": "execute_result"
    }
   ],
   "source": [
    "sum(a)"
   ]
  },
  {
   "cell_type": "code",
   "execution_count": 43,
   "metadata": {
    "collapsed": true
   },
   "outputs": [],
   "source": [
    "a = \"abcde\""
   ]
  },
  {
   "cell_type": "code",
   "execution_count": 44,
   "metadata": {},
   "outputs": [
    {
     "data": {
      "text/plain": [
       "'abcde'"
      ]
     },
     "execution_count": 44,
     "metadata": {},
     "output_type": "execute_result"
    }
   ],
   "source": [
    "a"
   ]
  },
  {
   "cell_type": "code",
   "execution_count": 48,
   "metadata": {},
   "outputs": [],
   "source": [
    "b = list(reversed(a))"
   ]
  },
  {
   "cell_type": "code",
   "execution_count": 50,
   "metadata": {},
   "outputs": [
    {
     "data": {
      "text/plain": [
       "'edcba'"
      ]
     },
     "execution_count": 50,
     "metadata": {},
     "output_type": "execute_result"
    }
   ],
   "source": [
    "\"\".join(b)"
   ]
  },
  {
   "cell_type": "code",
   "execution_count": 56,
   "metadata": {},
   "outputs": [
    {
     "ename": "SyntaxError",
     "evalue": "can't assign to conditional expression (<ipython-input-56-e111dcc1361f>, line 3)",
     "output_type": "error",
     "traceback": [
      "\u001b[0;36m  File \u001b[0;32m\"<ipython-input-56-e111dcc1361f>\"\u001b[0;36m, line \u001b[0;32m3\u001b[0m\n\u001b[0;31m    a=5 if b==0 else a=2\u001b[0m\n\u001b[0m     ^\u001b[0m\n\u001b[0;31mSyntaxError\u001b[0m\u001b[0;31m:\u001b[0m can't assign to conditional expression\n"
     ]
    }
   ],
   "source": [
    "a,b = 0\n",
    "s=2\n",
    "a=5 if b==0 else a=2"
   ]
  },
  {
   "cell_type": "code",
   "execution_count": 71,
   "metadata": {},
   "outputs": [
    {
     "ename": "SyntaxError",
     "evalue": "invalid syntax (<ipython-input-71-499365b51056>, line 4)",
     "output_type": "error",
     "traceback": [
      "\u001b[0;36m  File \u001b[0;32m\"<ipython-input-71-499365b51056>\"\u001b[0;36m, line \u001b[0;32m4\u001b[0m\n\u001b[0;31m    s = a if a < b else pass\u001b[0m\n\u001b[0m                           ^\u001b[0m\n\u001b[0;31mSyntaxError\u001b[0m\u001b[0;31m:\u001b[0m invalid syntax\n"
     ]
    }
   ],
   "source": [
    "a=4\n",
    "b=3\n",
    "s=0\n",
    "s = a if a < b else pass"
   ]
  },
  {
   "cell_type": "code",
   "execution_count": 74,
   "metadata": {},
   "outputs": [],
   "source": []
  },
  {
   "cell_type": "code",
   "execution_count": 77,
   "metadata": {},
   "outputs": [
    {
     "name": "stdout",
     "output_type": "stream",
     "text": [
      "[6, 12]\n"
     ]
    }
   ],
   "source": [
    "a=[1,2,3,4]\n",
    "result = [num*3 for num in a if num%2==0]\n",
    "print(result)"
   ]
  },
  {
   "cell_type": "code",
   "execution_count": 80,
   "metadata": {},
   "outputs": [
    {
     "name": "stdout",
     "output_type": "stream",
     "text": [
      "[2, 6, 10]\n"
     ]
    }
   ],
   "source": [
    "numbers = [1, 2, 3, 4, 5]\n",
    "\n",
    "result = []\n",
    "for n in numbers:\n",
    "    if n % 2 == 1:\n",
    "        result.append(n*2)\n",
    "print(result)"
   ]
  },
  {
   "cell_type": "code",
   "execution_count": 82,
   "metadata": {},
   "outputs": [],
   "source": [
    "result = [n*2 for n in numbers if n%2 == 1]"
   ]
  },
  {
   "cell_type": "code",
   "execution_count": 83,
   "metadata": {},
   "outputs": [
    {
     "name": "stdout",
     "output_type": "stream",
     "text": [
      "[2, 6, 10]\n"
     ]
    }
   ],
   "source": [
    "print(result)"
   ]
  },
  {
   "cell_type": "code",
   "execution_count": 84,
   "metadata": {
    "collapsed": true
   },
   "outputs": [],
   "source": [
    "s = \"Life is too short, you need python\""
   ]
  },
  {
   "cell_type": "code",
   "execution_count": 85,
   "metadata": {},
   "outputs": [
    {
     "data": {
      "text/plain": [
       "'Life is too short, you need python'"
      ]
     },
     "execution_count": 85,
     "metadata": {},
     "output_type": "execute_result"
    }
   ],
   "source": [
    "s"
   ]
  },
  {
   "cell_type": "code",
   "execution_count": 91,
   "metadata": {},
   "outputs": [
    {
     "data": {
      "text/plain": [
       "'Lf s t shrt, y nd pythn'"
      ]
     },
     "execution_count": 91,
     "metadata": {},
     "output_type": "execute_result"
    }
   ],
   "source": [
    "\"\".join([n for n in s if n not in 'aeiou'])\n",
    "    "
   ]
  },
  {
   "cell_type": "code",
   "execution_count": null,
   "metadata": {
    "collapsed": true
   },
   "outputs": [],
   "source": []
  }
 ],
 "metadata": {
  "kernelspec": {
   "display_name": "Python 3",
   "language": "python",
   "name": "python3"
  },
  "language_info": {
   "codemirror_mode": {
    "name": "ipython",
    "version": 3
   },
   "file_extension": ".py",
   "mimetype": "text/x-python",
   "name": "python",
   "nbconvert_exporter": "python",
   "pygments_lexer": "ipython3",
   "version": "3.5.4"
  }
 },
 "nbformat": 4,
 "nbformat_minor": 2
}
