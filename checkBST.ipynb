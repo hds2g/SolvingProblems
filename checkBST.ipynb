{
 "cells": [
  {
   "cell_type": "code",
   "execution_count": 33,
   "metadata": {},
   "outputs": [
    {
     "name": "stdout",
     "output_type": "stream",
     "text": [
      "No\n"
     ]
    }
   ],
   "source": [
    "# Node is defined as\n",
    "class node:\n",
    "    def __init__(self, data):\n",
    "        self.data = data\n",
    "        self.left = None\n",
    "        self.right = None\n",
    "\n",
    "\n",
    "def checkBST(root):\n",
    "    \n",
    "    if root.left is not None:\n",
    "        r = checkBST(root.left)\n",
    "    else:\n",
    "        return\n",
    "    \n",
    "    if r is \"No\":\n",
    "        return \"No\"\n",
    "    \n",
    "    if root.right is not None:\n",
    "        r = checkBST(root.right)\n",
    "    else:\n",
    "        return\n",
    "    \n",
    "    if r is \"No\":\n",
    "        return \"No\"\n",
    "    \n",
    "    if root.data >= root.left.data and root.data < root.right.data:\n",
    "        return \"Yes\"\n",
    "    else:\n",
    "        return \"No\"\n",
    "    \n",
    "def check(root, min_, max_):\n",
    "    r = (root is None or \n",
    "            (root.data < max_ and root.data > min_ and \n",
    "             check(root.left, min_, root.data) and \n",
    "             check(root.right, root.data, max_)))\n",
    "    if r is True:\n",
    "        return \"Yes\"\n",
    "    else:\n",
    "        return \"No\"\n",
    "\n",
    "def check_binary_search_tree_(root):\n",
    "    return check(root, -float('inf'), float('inf'))\n",
    "    \n",
    "\n",
    "                 \n",
    "if __name__ == '__main__':\n",
    "    a = node(4)\n",
    "    b = node(2)\n",
    "    c = node(6)\n",
    "    d = node(1)\n",
    "    e = node(3)\n",
    "    f = node(5)\n",
    "    g = node(7)\n",
    "    g.left = None\n",
    "    g.right = None\n",
    "    a.left = b\n",
    "    a.right = c\n",
    "    b.left = d\n",
    "    b.right = e\n",
    "    c.left = g\n",
    "    c.right = f\n",
    "\n",
    "    #print(checkBST(a))\n",
    "    print(check_binary_search_tree_(a))\n",
    "    "
   ]
  },
  {
   "cell_type": "code",
   "execution_count": null,
   "metadata": {
    "collapsed": true
   },
   "outputs": [],
   "source": []
  }
 ],
 "metadata": {
  "kernelspec": {
   "display_name": "Python 3",
   "language": "python",
   "name": "python3"
  },
  "language_info": {
   "codemirror_mode": {
    "name": "ipython",
    "version": 3
   },
   "file_extension": ".py",
   "mimetype": "text/x-python",
   "name": "python",
   "nbconvert_exporter": "python",
   "pygments_lexer": "ipython3",
   "version": "3.5.4"
  }
 },
 "nbformat": 4,
 "nbformat_minor": 2
}
