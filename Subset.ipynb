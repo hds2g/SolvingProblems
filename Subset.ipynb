{
 "cells": [
  {
   "cell_type": "code",
   "execution_count": 9,
   "metadata": {},
   "outputs": [
    {
     "name": "stdout",
     "output_type": "stream",
     "text": [
      "printAllSubsetHelper['a', 'b', 'c']0\n",
      "\n",
      "printAllSubsetHelper['a', 'b', 'c']1\n",
      "\n",
      "printAllSubsetHelper['a', 'b', 'c']2\n",
      "\n",
      "printAllSubsetHelper['a', 'b', 'c']3\n",
      "\n",
      "['a', 'b', 'c']\n",
      "printAllSubsetHelper['a', 'b']2\n",
      "\n",
      "['a', 'b']\n",
      "printAllSubsetHelper['a', 'c']1\n",
      "\n",
      "printAllSubsetHelper['a', 'c']2\n",
      "\n",
      "['a', 'c']\n",
      "printAllSubsetHelper['a']1\n",
      "\n",
      "['a']\n",
      "printAllSubsetHelper['b', 'c']0\n",
      "\n",
      "printAllSubsetHelper['b', 'c']1\n",
      "\n",
      "printAllSubsetHelper['b', 'c']2\n",
      "\n",
      "['b', 'c']\n",
      "printAllSubsetHelper['b']1\n",
      "\n",
      "['b']\n",
      "printAllSubsetHelper['c']0\n",
      "\n",
      "printAllSubsetHelper['c']1\n",
      "\n",
      "['c']\n",
      "printAllSubsetHelper[]0\n",
      "\n",
      "[]\n"
     ]
    }
   ],
   "source": [
    "def printAllSubset(A):\n",
    "    printAllSubsetHelper(A, 0)\n",
    "\n",
    "def printAllSubsetHelper(A, index):\n",
    "    print(\"printAllSubsetHelper\" + str(A) + str(index))\n",
    "    print(\"\")\n",
    "    if index == len(A):\n",
    "        print(A)\n",
    "        return\n",
    "    printAllSubsetHelper(A[:], index + 1) #index번째 원소를 건드리 않고 다음으로 넘어가는 경우\n",
    "    A.pop(index) #index번째의 원소를 제외하고\n",
    "    printAllSubsetHelper(A[:], index) #다음 원소로 넘어가는 경우. 주의할 점은 앞서 뺀 원소가 아예 사라졌기 때문에 index를 증가시키면 안된다!\n",
    "\n",
    "printAllSubset(['a', 'b', 'c'])"
   ]
  },
  {
   "cell_type": "code",
   "execution_count": 10,
   "metadata": {
    "collapsed": true
   },
   "outputs": [],
   "source": [
    "a = {1,2,3}"
   ]
  },
  {
   "cell_type": "code",
   "execution_count": 12,
   "metadata": {},
   "outputs": [
    {
     "ename": "AttributeError",
     "evalue": "'set' object has no attribute 'powerSet'",
     "output_type": "error",
     "traceback": [
      "\u001b[0;31m---------------------------------------------------------------------------\u001b[0m",
      "\u001b[0;31mAttributeError\u001b[0m                            Traceback (most recent call last)",
      "\u001b[0;32m<ipython-input-12-acac7948f7dd>\u001b[0m in \u001b[0;36m<module>\u001b[0;34m()\u001b[0m\n\u001b[0;32m----> 1\u001b[0;31m \u001b[0ma\u001b[0m\u001b[0;34m.\u001b[0m\u001b[0mpowerSet\u001b[0m\u001b[0;34m(\u001b[0m\u001b[0;34m)\u001b[0m\u001b[0;34m\u001b[0m\u001b[0m\n\u001b[0m",
      "\u001b[0;31mAttributeError\u001b[0m: 'set' object has no attribute 'powerSet'"
     ]
    }
   ],
   "source": [
    "a.powerSet()"
   ]
  },
  {
   "cell_type": "code",
   "execution_count": null,
   "metadata": {
    "collapsed": true
   },
   "outputs": [],
   "source": []
  }
 ],
 "metadata": {
  "kernelspec": {
   "display_name": "Python 3",
   "language": "python",
   "name": "python3"
  },
  "language_info": {
   "codemirror_mode": {
    "name": "ipython",
    "version": 3
   },
   "file_extension": ".py",
   "mimetype": "text/x-python",
   "name": "python",
   "nbconvert_exporter": "python",
   "pygments_lexer": "ipython3",
   "version": "3.5.4"
  }
 },
 "nbformat": 4,
 "nbformat_minor": 2
}
