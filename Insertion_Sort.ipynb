{
 "cells": [
  {
   "cell_type": "code",
   "execution_count": 12,
   "metadata": {
    "collapsed": true
   },
   "outputs": [],
   "source": [
    "import unittest\n",
    "\n",
    "def insertion_sort(input):\n",
    "\n",
    "    for idx, valueToInsert in enumerate(input):\n",
    "        # select the hole position where number is to be inserted\n",
    "        holePosition = idx\n",
    "        print(holePosition)\n",
    "\n",
    "        # check if previous no. is larger than value to be inserted\n",
    "        while holePosition > 0 and input[holePosition-1] > valueToInsert:\n",
    "            input[holePosition - 1], input[holePosition] = input[holePosition], input[holePosition-1]\n",
    "            holePosition = holePosition - 1\n",
    "            print(input)\n",
    "            print(holePosition)\n",
    "        print(\"\")\n",
    "    return input\n",
    "\n",
    "class unit_test(unittest.TestCase):\n",
    "    def test(self):\n",
    "        self.assertEqual([1, 2, 3, 4, 5, 6], insertion_sort([4, 6, 1, 3, 5, 2]))\n",
    "        self.assertEqual([1, 2, 3, 4, 5, 6], insertion_sort([6, 4, 3, 1, 2, 5]))\n",
    "        self.assertEqual([1, 2, 3, 4, 5, 6], insertion_sort([6, 5, 4, 3, 2, 1]))"
   ]
  },
  {
   "cell_type": "code",
   "execution_count": 13,
   "metadata": {},
   "outputs": [
    {
     "name": "stdout",
     "output_type": "stream",
     "text": [
      "0\n",
      "\n",
      "1\n",
      "\n",
      "2\n",
      "[4, 1, 6, 3, 5, 2]\n",
      "1\n",
      "[1, 4, 6, 3, 5, 2]\n",
      "0\n",
      "\n",
      "3\n",
      "[1, 4, 3, 6, 5, 2]\n",
      "2\n",
      "[1, 3, 4, 6, 5, 2]\n",
      "1\n",
      "\n",
      "4\n",
      "[1, 3, 4, 5, 6, 2]\n",
      "3\n",
      "\n",
      "5\n",
      "[1, 3, 4, 5, 2, 6]\n",
      "4\n",
      "[1, 3, 4, 2, 5, 6]\n",
      "3\n",
      "[1, 3, 2, 4, 5, 6]\n",
      "2\n",
      "[1, 2, 3, 4, 5, 6]\n",
      "1\n",
      "\n"
     ]
    },
    {
     "data": {
      "text/plain": [
       "[1, 2, 3, 4, 5, 6]"
      ]
     },
     "execution_count": 13,
     "metadata": {},
     "output_type": "execute_result"
    }
   ],
   "source": [
    "insertion_sort([4, 6, 1, 3, 5, 2])"
   ]
  },
  {
   "cell_type": "markdown",
   "metadata": {},
   "source": [
    "## enumerate"
   ]
  },
  {
   "cell_type": "code",
   "execution_count": 3,
   "metadata": {},
   "outputs": [
    {
     "name": "stdout",
     "output_type": "stream",
     "text": [
      "0 body\n",
      "1 foo\n",
      "2 bar\n"
     ]
    }
   ],
   "source": [
    "for i, name in enumerate(['body', 'foo', 'bar']):\n",
    "    print(i, name)"
   ]
  },
  {
   "cell_type": "code",
   "execution_count": null,
   "metadata": {
    "collapsed": true
   },
   "outputs": [],
   "source": []
  }
 ],
 "metadata": {
  "kernelspec": {
   "display_name": "Python 3",
   "language": "python",
   "name": "python3"
  },
  "language_info": {
   "codemirror_mode": {
    "name": "ipython",
    "version": 3
   },
   "file_extension": ".py",
   "mimetype": "text/x-python",
   "name": "python",
   "nbconvert_exporter": "python",
   "pygments_lexer": "ipython3",
   "version": "3.5.4"
  }
 },
 "nbformat": 4,
 "nbformat_minor": 2
}
