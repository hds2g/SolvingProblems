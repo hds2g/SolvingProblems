{
 "cells": [
  {
   "cell_type": "code",
   "execution_count": null,
   "metadata": {
    "collapsed": true
   },
   "outputs": [],
   "source": [
    "class Node:\n",
    "    def __init__(self, item):\n",
    "        self.val = item\n",
    "        self.left = None\n",
    "        self.right = None\n",
    "        \n",
    "class BinaryTree:\n",
    "    def __init__(self):\n",
    "        self.head = Node(None)\n",
    "        \n",
    "        self.preorder_list = []\n",
    "        self.inorder_list = []\n",
    "        self.pstorder_list = []\n",
    "        \n",
    "        def add(self, item):\n",
    "            if self.head.val is None:\n",
    "                self.head.val = item\n",
    "            else:\n",
    "                self.__add_node(self.head, item)\n",
    "        \n",
    "        def __add_note(self, cur, item):\n",
    "            if cur.val >= item:\n",
    "                if cur.left is not None:\n",
    "                    self.__add_mode(cur.left,item)\n",
    "                else:\n",
    "                    cur.left = Node(item)\n",
    "            else:\n",
    "                if cur.right is not None:\n",
    "                    self.__add_node(cur.right, item)\n",
    "                else:\n",
    "                    cur.right = Node(item)\n",
    "                    "
   ]
  }
 ],
 "metadata": {
  "kernelspec": {
   "display_name": "Python 3",
   "language": "python",
   "name": "python3"
  },
  "language_info": {
   "codemirror_mode": {
    "name": "ipython",
    "version": 3
   },
   "file_extension": ".py",
   "mimetype": "text/x-python",
   "name": "python",
   "nbconvert_exporter": "python",
   "pygments_lexer": "ipython3",
   "version": "3.5.4"
  }
 },
 "nbformat": 4,
 "nbformat_minor": 2
}
