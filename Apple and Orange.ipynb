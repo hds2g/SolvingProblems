{
 "cells": [
  {
   "cell_type": "markdown",
   "metadata": {},
   "source": [
    "Apple and Orange"
   ]
  },
  {
   "cell_type": "code",
   "execution_count": 24,
   "metadata": {},
   "outputs": [
    {
     "ename": "SyntaxError",
     "evalue": "invalid syntax (<ipython-input-24-9b84ce8badbc>, line 31)",
     "output_type": "error",
     "traceback": [
      "\u001b[0;36m  File \u001b[0;32m\"<ipython-input-24-9b84ce8badbc>\"\u001b[0;36m, line \u001b[0;32m31\u001b[0m\n\u001b[0;31m    ac+=1 if s <= (a+ap) <= t else: pass\u001b[0m\n\u001b[0m                                  ^\u001b[0m\n\u001b[0;31mSyntaxError\u001b[0m\u001b[0;31m:\u001b[0m invalid syntax\n"
     ]
    }
   ],
   "source": [
    "#!/bin/python3\n",
    "\n",
    "import math\n",
    "import os\n",
    "import random\n",
    "import re\n",
    "import sys\n",
    "from itertools import zip_longest\n",
    "\n",
    "\n",
    "# Complete the countApplesAndOranges function below.\n",
    "def countApplesAndOranges1(s, t, a, b, apples, oranges):\n",
    "    ac=0\n",
    "    for ap in apples:\n",
    "        if s <= (a+ap) <= t:\n",
    "            ac+=1\n",
    "      \n",
    "    oc = 0\n",
    "    for ora in oranges:\n",
    "        if s<=(b+ora)<=t:\n",
    "            oc+=1\n",
    "        \n",
    "    print(ac)\n",
    "    print(oc)\n",
    "\n",
    "def countApplesAndOranges(s, t, a, b, apples, oranges):\n",
    "    ac = oc = 0\n",
    "    \n",
    "    for ap,ora in zip_longest(apples, oranges):\n",
    "        if ap is not None:\n",
    "            if s <= (a+ap) <= t:\n",
    "                ac+=1\n",
    "        if ora is not None:\n",
    "            if s<=(b+ora)<=t:\n",
    "                oc+=1\n",
    "        \n",
    "    print(ac)\n",
    "    print(oc)\n",
    "\n",
    "if __name__ == '__main__':\n",
    "    #st = input().split()\n",
    "\n",
    "    s = 7#int(st[0])\n",
    "\n",
    "    t = 11#int(st[1])\n",
    "\n",
    "    #ab = 5#input().split()\n",
    "\n",
    "    a = 5#int(ab[0])\n",
    "\n",
    "    b = 15#int(ab[1])\n",
    "\n",
    "    #mn = input().split()\n",
    "\n",
    "    m = 3#int(mn[0])\n",
    "\n",
    "    n = 2#int(mn[1])\n",
    "\n",
    "    apples = [-2,2,1]#list(map(int, input().rstrip().split()))\n",
    "\n",
    "    oranges = [5,-6]#list(map(int, input().rstrip().split()))\n",
    "\n",
    "    countApplesAndOranges(s, t, a, b, apples, oranges)\n"
   ]
  },
  {
   "cell_type": "code",
   "execution_count": null,
   "metadata": {
    "collapsed": true
   },
   "outputs": [],
   "source": [
    "\n",
    "apples = list(map(int, input().rstrip().split()))\n",
    "print(apples)"
   ]
  },
  {
   "cell_type": "code",
   "execution_count": 1,
   "metadata": {
    "collapsed": true
   },
   "outputs": [],
   "source": [
    "a = \"test test aaa\""
   ]
  },
  {
   "cell_type": "code",
   "execution_count": 5,
   "metadata": {},
   "outputs": [],
   "source": [
    "l = list(a.split())"
   ]
  },
  {
   "cell_type": "code",
   "execution_count": 27,
   "metadata": {},
   "outputs": [],
   "source": [
    "r = range(0,10)"
   ]
  },
  {
   "cell_type": "code",
   "execution_count": 30,
   "metadata": {},
   "outputs": [
    {
     "name": "stdout",
     "output_type": "stream",
     "text": [
      "range(0, 10)\n"
     ]
    }
   ],
   "source": [
    "print(r)"
   ]
  },
  {
   "cell_type": "code",
   "execution_count": 34,
   "metadata": {},
   "outputs": [],
   "source": [
    "\n",
    "s = 7\n",
    "t = 11\n",
    "a = 5\n",
    "b = 15\n",
    "m = 3\n",
    "n = 2    \n",
    "apples = [-2,2,1]\n",
    "oranges = [5,-6]"
   ]
  },
  {
   "cell_type": "code",
   "execution_count": 36,
   "metadata": {},
   "outputs": [
    {
     "name": "stdout",
     "output_type": "stream",
     "text": [
      "[False, True, False]\n",
      "[False, True]\n",
      "1\n",
      "1\n"
     ]
    }
   ],
   "source": [
    "r = range(s,t+1)\n",
    "print([a+x in r for x in apples])\n",
    "print([b+x in r for x in oranges])\n",
    "\n",
    "\n",
    "print(sum([a+x in r for x in apples]))\n",
    "print(sum([b+x in r for x in oranges]))"
   ]
  },
  {
   "cell_type": "code",
   "execution_count": null,
   "metadata": {
    "collapsed": true
   },
   "outputs": [],
   "source": []
  }
 ],
 "metadata": {
  "kernelspec": {
   "display_name": "Python 3",
   "language": "python",
   "name": "python3"
  },
  "language_info": {
   "codemirror_mode": {
    "name": "ipython",
    "version": 3
   },
   "file_extension": ".py",
   "mimetype": "text/x-python",
   "name": "python",
   "nbconvert_exporter": "python",
   "pygments_lexer": "ipython3",
   "version": "3.5.4"
  }
 },
 "nbformat": 4,
 "nbformat_minor": 2
}
