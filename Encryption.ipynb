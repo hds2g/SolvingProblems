{
 "cells": [
  {
   "cell_type": "code",
   "execution_count": 1,
   "metadata": {},
   "outputs": [
    {
     "data": {
      "text/plain": [
       "7.3484692283495345"
      ]
     },
     "execution_count": 1,
     "metadata": {},
     "output_type": "execute_result"
    }
   ],
   "source": [
    "import math\n",
    "math.sqrt(54)"
   ]
  },
  {
   "cell_type": "code",
   "execution_count": 2,
   "metadata": {},
   "outputs": [
    {
     "name": "stdout",
     "output_type": "stream",
     "text": [
      "123 4\n"
     ]
    }
   ],
   "source": [
    "a = ['1','2','3',' ','4']\n",
    "print(\"\".join(a))"
   ]
  },
  {
   "cell_type": "code",
   "execution_count": 66,
   "metadata": {},
   "outputs": [
    {
     "name": "stdout",
     "output_type": "stream",
     "text": [
      "9.0 9 0.0\n",
      "a\n",
      "9.0 81 9 9\n",
      "wmgjpnull cyjqlejgi lyhhdzbui wctlsqsbm fxeoxmsvv ovxjeirfm zadysxbhn nxkkbffpn bawobphfy \n"
     ]
    }
   ],
   "source": [
    "#!/bin/python3\n",
    "\n",
    "import math\n",
    "import os\n",
    "import random\n",
    "import re\n",
    "import sys\n",
    "\n",
    "# Complete the encryption function below.\n",
    "def encryption(s):\n",
    "    if s is None:\n",
    "        return None\n",
    "    \n",
    "    sqr = math.sqrt(len(s))\n",
    "    \n",
    "    print(sqr, int(sqr),sqr - int(sqr))\n",
    "    if sqr - int(sqr) == 0.0:\n",
    "        print(\"a\")\n",
    "        row = column = int(sqr)\n",
    "    else:\n",
    "        print(\"b\")\n",
    "        row = int(sqr)\n",
    "        column = round(sqr+0.5)\n",
    "        \n",
    "    if len(s) > row*column:\n",
    "        row += 1\n",
    "    print(sqr,len(s),row, column)\n",
    "    ret = []\n",
    "    \n",
    "    for j in range(column):\n",
    "        for i in range(row):\n",
    "            getIndex = j+i*column\n",
    "            if getIndex >= len(s):\n",
    "                break\n",
    "            ret.append(s[getIndex])\n",
    "        ret.append(\" \")\n",
    "    \n",
    "    return \"\".join(ret)\n",
    "\n",
    "if __name__ == '__main__':\n",
    "\n",
    "    s = \"wclwfoznbmyycxvaxagjhtexdkwjqhlojykopldsxesbbnezqmixfpujbssrbfhlgubvfhpfliimvmnny\"\n",
    "    #s = \"ifmanwasmeanttostayonthegroundgodwouldhavegivenusroots\"\n",
    "    result = encryption(s)\n",
    "\n",
    "    print(result)\n"
   ]
  },
  {
   "cell_type": "code",
   "execution_count": 30,
   "metadata": {},
   "outputs": [
    {
     "name": "stdout",
     "output_type": "stream",
     "text": [
      "a\n"
     ]
    }
   ],
   "source": [
    "if 9 == math.sqrt(81):\n",
    "    print(\"a\")\n",
    "else:\n",
    "    print(\"b\")"
   ]
  },
  {
   "cell_type": "code",
   "execution_count": 27,
   "metadata": {},
   "outputs": [
    {
     "data": {
      "text/plain": [
       "9.055385138137417"
      ]
     },
     "execution_count": 27,
     "metadata": {},
     "output_type": "execute_result"
    }
   ],
   "source": [
    "math.sqrt(82)"
   ]
  },
  {
   "cell_type": "code",
   "execution_count": 37,
   "metadata": {},
   "outputs": [
    {
     "name": "stdout",
     "output_type": "stream",
     "text": [
      "9.0\n",
      "a\n"
     ]
    }
   ],
   "source": [
    "sqr = math.sqrt(81)\n",
    "print(sqr)\n",
    "if sqr*sqr == 81:\n",
    "    print(\"a\")"
   ]
  },
  {
   "cell_type": "code",
   "execution_count": 52,
   "metadata": {},
   "outputs": [
    {
     "name": "stdout",
     "output_type": "stream",
     "text": [
      "b\n"
     ]
    }
   ],
   "source": [
    "if 9 is 9.0:\n",
    "    print(\"a\")\n",
    "else:\n",
    "    print(\"b\")"
   ]
  },
  {
   "cell_type": "code",
   "execution_count": 53,
   "metadata": {},
   "outputs": [
    {
     "data": {
      "text/plain": [
       "3.0"
      ]
     },
     "execution_count": 53,
     "metadata": {},
     "output_type": "execute_result"
    }
   ],
   "source": [
    "9 ** 0.5"
   ]
  },
  {
   "cell_type": "code",
   "execution_count": 54,
   "metadata": {},
   "outputs": [
    {
     "data": {
      "text/plain": [
       "9.0"
      ]
     },
     "execution_count": 54,
     "metadata": {},
     "output_type": "execute_result"
    }
   ],
   "source": [
    "81 ** 0.5"
   ]
  },
  {
   "cell_type": "code",
   "execution_count": 59,
   "metadata": {},
   "outputs": [
    {
     "name": "stdout",
     "output_type": "stream",
     "text": [
      "9\n",
      "9.0\n",
      "9 9\n"
     ]
    }
   ],
   "source": [
    "s = \"wclwfoznbmyycxvaxagjhtexdkwjqhlojykopldsxesbbnezqmixfpujbssrbfhlgubvfhpfliimvmnny\"\n",
    "rows = int(len(s) ** 0.5)\n",
    "print(rows)\n",
    "t = len(s) ** 0.5\n",
    "print(t)\n",
    "if rows < len(s) ** 0.5:\n",
    "    columns = rows + 1\n",
    "else:\n",
    "    columns = rows\n",
    "print(rows,columns)"
   ]
  },
  {
   "cell_type": "code",
   "execution_count": 61,
   "metadata": {},
   "outputs": [
    {
     "name": "stdout",
     "output_type": "stream",
     "text": [
      "a\n"
     ]
    }
   ],
   "source": [
    "if 9 == 9.0:\n",
    "    print(\"a\")\n",
    "else:\n",
    "    print(\"b\")"
   ]
  },
  {
   "cell_type": "code",
   "execution_count": 67,
   "metadata": {},
   "outputs": [
    {
     "name": "stdout",
     "output_type": "stream",
     "text": [
      "wmgjpnull cyjqlejgi lyhhdzbui wctlsqsbm fxeoxmsvv ovxjeirfm zadysxbhn nxkkbffpn bawobphfy "
     ]
    }
   ],
   "source": [
    "def encryption2(s):\n",
    "    rows = int(len(s) ** 0.5)\n",
    "    if rows < len(s) ** 0.5:\n",
    "        columns = rows + 1\n",
    "    else:\n",
    "        columns = rows\n",
    "\n",
    "    for i in range(columns):\n",
    "        print(s[i::columns], end = ' ')\n",
    "\n",
    "s = \"wclwfoznbmyycxvaxagjhtexdkwjqhlojykopldsxesbbnezqmixfpujbssrbfhlgubvfhpfliimvmnny\"\n",
    "\n",
    "encryption2(s)"
   ]
  },
  {
   "cell_type": "code",
   "execution_count": 70,
   "metadata": {},
   "outputs": [
    {
     "name": "stdout",
     "output_type": "stream",
     "text": [
      "wmgjpnull "
     ]
    }
   ],
   "source": [
    "print(s[0::9], end = ' ')"
   ]
  },
  {
   "cell_type": "code",
   "execution_count": 75,
   "metadata": {},
   "outputs": [
    {
     "data": {
      "text/plain": [
       "'wmgjpnull'"
      ]
     },
     "execution_count": 75,
     "metadata": {},
     "output_type": "execute_result"
    }
   ],
   "source": [
    "s[0:81:9]"
   ]
  },
  {
   "cell_type": "code",
   "execution_count": null,
   "metadata": {
    "collapsed": true
   },
   "outputs": [],
   "source": []
  }
 ],
 "metadata": {
  "kernelspec": {
   "display_name": "Python 3",
   "language": "python",
   "name": "python3"
  },
  "language_info": {
   "codemirror_mode": {
    "name": "ipython",
    "version": 3
   },
   "file_extension": ".py",
   "mimetype": "text/x-python",
   "name": "python",
   "nbconvert_exporter": "python",
   "pygments_lexer": "ipython3",
   "version": "3.5.4"
  }
 },
 "nbformat": 4,
 "nbformat_minor": 2
}
