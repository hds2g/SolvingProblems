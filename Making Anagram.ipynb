{
 "cells": [
  {
   "cell_type": "code",
   "execution_count": 83,
   "metadata": {},
   "outputs": [
    {
     "name": "stdout",
     "output_type": "stream",
     "text": [
      "100\n",
      "They are not Anagram\n",
      "[1, 3, 0, 1, 2, 1, 2, 3, 1, 0, 2, 3, 3, 2, 0, 1, 1, 4, 2, 1, 2, 3, 1, 1, 2, 0]\n",
      "[0, 2, 2, 1, 2, 1, 0, 2, 2, 2, 4, 2, 4, 4, 1, 5, 1, 1, 4, 2, 4, 2, 2, 3, 2, 3]\n",
      "36\n",
      "36\n"
     ]
    }
   ],
   "source": [
    "def isAnagram(a,b):\n",
    "    # sorting\n",
    "    a = sorted(a)\n",
    "    b = sorted(b)\n",
    "    # remove duplicate\n",
    "    # abcccdddefff -> abcdef\n",
    "    a = list(set(a)) # set은 중복이 없다, 순서도 없다\n",
    "    b = list(set(b))\n",
    "    \n",
    "    #print(a,b)\n",
    "    if a == b:\n",
    "        return 1\n",
    "    else:\n",
    "        return 0\n",
    "    \n",
    "def makeAnagram1(a,b):\n",
    "    ret = 0\n",
    "    if isAnagram(a,b) is 1:\n",
    "        print(\"already Anagram\")\n",
    "        return 0\n",
    "    # is not Anagram\n",
    "    print(\"They are not Anagram\")\n",
    "    # find the same character\n",
    "    a_alpha = [0]*26\n",
    "    b_alpha = [0 for i in range(26)]\n",
    "\n",
    "    for i in range(len(a)):\n",
    "        a_alpha[ord(a[i]) - ord('a')] += 1\n",
    "        \n",
    "    for i in range(len(b)):\n",
    "        b_alpha[ord(b[i]) - ord('a')] += 1\n",
    "  \n",
    "    print(a_alpha)\n",
    "    print(b_alpha)\n",
    "\n",
    "    for i in range(26):\n",
    "        #if (a_alpha[i] != 0 and b_alpha[i] == 0) or (a_alpha[i] == 0 and b_alpha[i] != 1):\n",
    "        if a_alpha[i] != b_alpha[i]:\n",
    "            ret = ret + abs(a_alpha[i]-b_alpha[i])\n",
    "    return ret\n",
    "\n",
    "def makeAnagram2(a, b):\n",
    "    count = 0\n",
    "    for i in range(97, 123):\n",
    "        ia = sum(letter == chr(i) for letter in a)\n",
    "        ib = sum(letter == chr(i) for letter in b)\n",
    "        count += abs(ia-ib)\n",
    "    return count\n",
    "    \n",
    "\n",
    "a = \"imkhnpqnhlvaxlmrsskbyyrhwfvgteubrelgubvdmr\"\n",
    "b = \"dmesfxkpykprunzpustowmvhupkqsyjxmnptkcilmzcinbzjwvxshubeln\"\n",
    "print(len(a)+len(b))\n",
    "print(makeAnagram1(a,b))\n",
    "print(makeAnagram2(a,b))"
   ]
  },
  {
   "cell_type": "code",
   "execution_count": 34,
   "metadata": {},
   "outputs": [],
   "source": [
    "for i in range(26):\n",
    "    a_alpha[i] = 0\n"
   ]
  },
  {
   "cell_type": "code",
   "execution_count": 35,
   "metadata": {},
   "outputs": [
    {
     "data": {
      "text/plain": [
       "[0, 0, 0, 0, 0, 0, 0, 0, 0, 0, 0, 0, 0, 0, 0, 0, 0, 0, 0, 0, 0, 0, 0, 0, 0, 0]"
      ]
     },
     "execution_count": 35,
     "metadata": {},
     "output_type": "execute_result"
    }
   ],
   "source": [
    "a_alpha"
   ]
  },
  {
   "cell_type": "code",
   "execution_count": 36,
   "metadata": {
    "collapsed": true
   },
   "outputs": [],
   "source": [
    "a_alpha = [0 for i in range(26)]"
   ]
  },
  {
   "cell_type": "code",
   "execution_count": 37,
   "metadata": {},
   "outputs": [
    {
     "data": {
      "text/plain": [
       "[0, 0, 0, 0, 0, 0, 0, 0, 0, 0, 0, 0, 0, 0, 0, 0, 0, 0, 0, 0, 0, 0, 0, 0, 0, 0]"
      ]
     },
     "execution_count": 37,
     "metadata": {},
     "output_type": "execute_result"
    }
   ],
   "source": [
    "a_alpha"
   ]
  },
  {
   "cell_type": "code",
   "execution_count": 38,
   "metadata": {
    "collapsed": true
   },
   "outputs": [],
   "source": [
    "test = [0]*26"
   ]
  },
  {
   "cell_type": "code",
   "execution_count": 39,
   "metadata": {},
   "outputs": [
    {
     "data": {
      "text/plain": [
       "[0, 0, 0, 0, 0, 0, 0, 0, 0, 0, 0, 0, 0, 0, 0, 0, 0, 0, 0, 0, 0, 0, 0, 0, 0, 0]"
      ]
     },
     "execution_count": 39,
     "metadata": {},
     "output_type": "execute_result"
    }
   ],
   "source": [
    "test"
   ]
  },
  {
   "cell_type": "code",
   "execution_count": 44,
   "metadata": {
    "collapsed": true
   },
   "outputs": [],
   "source": [
    "a = 'a'"
   ]
  },
  {
   "cell_type": "code",
   "execution_count": 45,
   "metadata": {},
   "outputs": [
    {
     "data": {
      "text/plain": [
       "'a'"
      ]
     },
     "execution_count": 45,
     "metadata": {},
     "output_type": "execute_result"
    }
   ],
   "source": [
    "a"
   ]
  },
  {
   "cell_type": "code",
   "execution_count": 47,
   "metadata": {},
   "outputs": [
    {
     "data": {
      "text/plain": [
       "97"
      ]
     },
     "execution_count": 47,
     "metadata": {},
     "output_type": "execute_result"
    }
   ],
   "source": [
    "ord(a)"
   ]
  },
  {
   "cell_type": "code",
   "execution_count": null,
   "metadata": {
    "collapsed": true
   },
   "outputs": [],
   "source": []
  }
 ],
 "metadata": {
  "kernelspec": {
   "display_name": "Python 3",
   "language": "python",
   "name": "python3"
  },
  "language_info": {
   "codemirror_mode": {
    "name": "ipython",
    "version": 3
   },
   "file_extension": ".py",
   "mimetype": "text/x-python",
   "name": "python",
   "nbconvert_exporter": "python",
   "pygments_lexer": "ipython3",
   "version": "3.5.4"
  }
 },
 "nbformat": 4,
 "nbformat_minor": 2
}
