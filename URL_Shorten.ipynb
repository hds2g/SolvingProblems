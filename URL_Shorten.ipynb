{
 "cells": [
  {
   "cell_type": "markdown",
   "metadata": {},
   "source": [
    "# URL 단축 알고리즘 구현하기"
   ]
  },
  {
   "cell_type": "code",
   "execution_count": 29,
   "metadata": {
    "collapsed": true
   },
   "outputs": [],
   "source": [
    "class URL_Shortener:\n",
    "    id = 1230000\n",
    "    url2id = {}\n",
    "    \n",
    "    def shorten_url(self, original_url):\n",
    "        if original_url in self.url2id:\n",
    "            id = self.url2id[original_url]\n",
    "            shorten_url = self.encode(id)\n",
    "        else:\n",
    "            self.url2id[original_url] = self.id\n",
    "            shorten_url = self.encode(self.id)\n",
    "            self.id +=1\n",
    "        \n",
    "        return \"shorten_url.com/\" + str(shorten_url)\n",
    "    \n",
    "    def encode(self, id):\n",
    "        # base 62 characters\n",
    "        characters = \"0123456789abcdefghijklmnopqrstuvwxyzABCDEFGHIJKLMNOPQRSTUVWXYZ\"\n",
    "        base = len(characters)\n",
    "        ret = []\n",
    "        \n",
    "        # convert base10 id into base62 id for having alphanumeric shorten URL\n",
    "        while id > 0:\n",
    "            val = id % base\n",
    "            ret.append(characters[val])\n",
    "            id = id // base\n",
    "        # since ret has reversed order of base62 id, reverse ret before return it\n",
    "        return \"\". join(ret[::-1])\n",
    "    \n",
    "            "
   ]
  },
  {
   "cell_type": "code",
   "execution_count": 31,
   "metadata": {},
   "outputs": [
    {
     "name": "stdout",
     "output_type": "stream",
     "text": [
      "shorten_url.com/59YI\n",
      "shorten_url.com/59YI\n",
      "shorten_url.com/59YJ\n",
      "shorten_url.com/59YK\n",
      "shorten_url.com/59YL\n"
     ]
    }
   ],
   "source": [
    "shortener = URL_Shortener()\n",
    "print(shortener.shorten_url(\"goooooooooooooogle.com\"))\n",
    "print(shortener.shorten_url(\"goooooooooooooogle.com\"))\n",
    "print(shortener.shorten_url(\"veryloooooooongurl.com\"))\n",
    "print(shortener.shorten_url(\"helllloooooooooooo.com\"))\n",
    "print(shortener.shorten_url(\"https://coding_interview.com/questions/183658/replacing-letters-with-number\"))"
   ]
  },
  {
   "cell_type": "markdown",
   "metadata": {},
   "source": [
    "## 시간복잡도 : O(n * log_62(id))\n",
    "총 n개의 URL을 단축시킬 경우, n개의 아이템을 딕셔너리에 저장하는 시간 O(n)이 걸리고,\n",
    "10진수를 62진수로 변경하는 데 log_62(id)만큼의 시간이 걸립니다.\n",
    "\n",
    "## 공간복잡도 : O(n)\n",
    "딕셔너리 저장공간 O(n)이 필요합니다."
   ]
  },
  {
   "cell_type": "code",
   "execution_count": null,
   "metadata": {
    "collapsed": true
   },
   "outputs": [],
   "source": []
  }
 ],
 "metadata": {
  "kernelspec": {
   "display_name": "Python 3",
   "language": "python",
   "name": "python3"
  },
  "language_info": {
   "codemirror_mode": {
    "name": "ipython",
    "version": 3
   },
   "file_extension": ".py",
   "mimetype": "text/x-python",
   "name": "python",
   "nbconvert_exporter": "python",
   "pygments_lexer": "ipython3",
   "version": "3.5.4"
  }
 },
 "nbformat": 4,
 "nbformat_minor": 2
}
