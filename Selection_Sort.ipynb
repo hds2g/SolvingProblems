{
 "cells": [
  {
   "cell_type": "markdown",
   "metadata": {},
   "source": [
    "The selection sort improves on the bubble sort by making only one exchange for every pass through the list. \n",
    "In order to do this, a selection sort looks for the largest value as it makes a pass and, \n",
    "after completing the pass, places it in the proper location. \n",
    "\n",
    "after the first pass, the largest item is in the correct place. After the second pass, \n",
    "the next largest is in place. This process continues and requires n−1 passes to sort n items, \n",
    "since the final item must be in place after the (n−1) st pass."
   ]
  },
  {
   "cell_type": "code",
   "execution_count": 11,
   "metadata": {},
   "outputs": [
    {
     "name": "stdout",
     "output_type": "stream",
     "text": [
      "[17, 20, 26, 31, 44, 54, 55, 77, 93]\n"
     ]
    }
   ],
   "source": [
    "def selectionSort(alist):\n",
    "    for fillIndex in range(len(alist)-1,0,-1): # 8 7 6 5 4 3 2 1 (len-1 loop)\n",
    "        maxIndex=0 # assume 0 is max\n",
    "        for location in range(1,fillIndex+1):\n",
    "            if alist[location]>alist[maxIndex]:\n",
    "                maxIndex = location\n",
    "\n",
    "        alist[fillIndex], alist[maxIndex] = alist[maxIndex], alist[fillIndex]\n",
    "        #temp = alist[fillslot]\n",
    "        #alist[fillslot] = alist[positionOfMax]\n",
    "        #alist[positionOfMax] = temp\n",
    "\n",
    "alist = [54,26,93,17,77,31,44,55,20]\n",
    "selectionSort(alist)\n",
    "print(alist)"
   ]
  }
 ],
 "metadata": {
  "kernelspec": {
   "display_name": "Python 3",
   "language": "python",
   "name": "python3"
  },
  "language_info": {
   "codemirror_mode": {
    "name": "ipython",
    "version": 3
   },
   "file_extension": ".py",
   "mimetype": "text/x-python",
   "name": "python",
   "nbconvert_exporter": "python",
   "pygments_lexer": "ipython3",
   "version": "3.5.4"
  }
 },
 "nbformat": 4,
 "nbformat_minor": 2
}
