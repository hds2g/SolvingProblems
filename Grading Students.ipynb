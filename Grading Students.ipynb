{
 "cells": [
  {
   "cell_type": "code",
   "execution_count": null,
   "metadata": {
    "collapsed": true
   },
   "outputs": [],
   "source": []
  },
  {
   "cell_type": "code",
   "execution_count": 13,
   "metadata": {},
   "outputs": [
    {
     "name": "stdout",
     "output_type": "stream",
     "text": [
      "[75, 67, 38, 33]\n"
     ]
    }
   ],
   "source": [
    "import os\n",
    "import sys\n",
    "\n",
    "#\n",
    "# Complete the gradingStudents function below.\n",
    "#\n",
    "def gradingStudents(grades):\n",
    "    for i,n in enumerate(grades):\n",
    "        if n >= 38:\n",
    "            compare = 5*(n//5+1)\n",
    "            if (compare - n) < 3:\n",
    "                grades[i] = compare\n",
    "        else:\n",
    "            pass\n",
    "    return grades\n",
    "\n",
    "if __name__ == '__main__':\n",
    "    '''\n",
    "    f = open(os.environ['OUTPUT_PATH'], 'w')\n",
    "\n",
    "    n = int(input())\n",
    "\n",
    "    grades = []\n",
    "\n",
    "    for _ in range(n):\n",
    "        grades_item = int(input())\n",
    "        grades.append(grades_item)\n",
    "    '''\n",
    "    grades = [73,67,38,33]\n",
    "    result = gradingStudents(grades)\n",
    "    print(result)\n",
    "    '''\n",
    "    f.write('\\n'.join(map(str, result)))\n",
    "    f.write('\\n')\n",
    "\n",
    "    f.close()\n",
    "    '''"
   ]
  },
  {
   "cell_type": "code",
   "execution_count": null,
   "metadata": {
    "collapsed": true
   },
   "outputs": [],
   "source": []
  }
 ],
 "metadata": {
  "kernelspec": {
   "display_name": "Python 3",
   "language": "python",
   "name": "python3"
  },
  "language_info": {
   "codemirror_mode": {
    "name": "ipython",
    "version": 3
   },
   "file_extension": ".py",
   "mimetype": "text/x-python",
   "name": "python",
   "nbconvert_exporter": "python",
   "pygments_lexer": "ipython3",
   "version": "3.5.4"
  }
 },
 "nbformat": 4,
 "nbformat_minor": 2
}
