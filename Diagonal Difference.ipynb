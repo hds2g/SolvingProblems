{
 "cells": [
  {
   "cell_type": "markdown",
   "metadata": {},
   "source": [
    "Given a square matrix, calculate the absolute difference between the sums of its diagonals.\n",
    "\n",
    "Input Format\n",
    "\n",
    "The first line contains a single integer,  denoting the number of rows and columns in the matrix . \n",
    "The next  lines denote the matrix 's rows, with each line containing  space-separated integers describing the columns.\n",
    "\n",
    "Constraints\n",
    "\n",
    "Output Format\n",
    "\n",
    "Print the absolute difference between the sums of the matrix's two diagonals as a single integer.\n",
    "\n",
    "Sample Input\n",
    "\n",
    "3\n",
    "11 2 4\n",
    "4 5 6\n",
    "10 8 -12\n",
    "Sample Output\n",
    "\n",
    "15\n",
    "Explanation\n",
    "\n",
    "The primary diagonal is:\n",
    "\n",
    "11\n",
    "   5\n",
    "     -12\n",
    "Sum across the primary diagonal: 11 + 5 - 12 = 4\n",
    "\n",
    "The secondary diagonal is:\n",
    "\n",
    "     4\n",
    "   5\n",
    "10\n",
    "Sum across the secondary diagonal: 4 + 5 + 10 = 19 \n",
    "Difference: |4 - 19| = 15\n",
    "\n",
    "Note: |x| is the absolute value of x"
   ]
  },
  {
   "cell_type": "code",
   "execution_count": 1,
   "metadata": {
    "collapsed": true
   },
   "outputs": [],
   "source": [
    "from IPython.core.interactiveshell import InteractiveShell\n",
    "InteractiveShell.ast_node_interactivity = \"all\""
   ]
  },
  {
   "cell_type": "code",
   "execution_count": 20,
   "metadata": {},
   "outputs": [
    {
     "name": "stdout",
     "output_type": "stream",
     "text": [
      "15\n"
     ]
    }
   ],
   "source": [
    "import math\n",
    "import os\n",
    "import random\n",
    "import re\n",
    "import sys\n",
    "\n",
    "# Complete the diagonalDifference function below.\n",
    "def diagonalDifference(a):\n",
    "    diagonal_1 = 0\n",
    "    diagonal_2 = 0\n",
    "    t = 0\n",
    "\n",
    "    for i in range(len(a)):\n",
    "        diagonal_1 += a[i][i]\n",
    "        \n",
    "    for i in reversed(range(len(a))):\n",
    "        diagonal_2 += a[t][i]\n",
    "        t+=1\n",
    "    \n",
    "    return abs(diagonal_1-diagonal_2)\n",
    "    \n",
    "if __name__ == '__main__':\n",
    "    #n = int(input())\n",
    "    #a = []\n",
    "    #for _ in range(n):\n",
    "    #    a.append(list(map(int, input().rstrip().split())))\n",
    "    a = [[11, 2, 4], [4, 5, 6], [10, 8, -12]]\n",
    "    #print(a[1][1])\n",
    "    result = diagonalDifference(a)\n",
    "\n",
    "    print(result)\n"
   ]
  },
  {
   "cell_type": "code",
   "execution_count": 12,
   "metadata": {
    "collapsed": true
   },
   "outputs": [],
   "source": [
    "a = [[11, 2, 4], [4, 5, 6], [10, 8, -12]]"
   ]
  },
  {
   "cell_type": "code",
   "execution_count": 4,
   "metadata": {},
   "outputs": [
    {
     "data": {
      "text/plain": [
       "[[11, 2, 4], [4, 5, 6], [10, 8, -12]]"
      ]
     },
     "execution_count": 4,
     "metadata": {},
     "output_type": "execute_result"
    }
   ],
   "source": [
    "a"
   ]
  },
  {
   "cell_type": "code",
   "execution_count": null,
   "metadata": {
    "collapsed": true
   },
   "outputs": [],
   "source": [
    "print(a)"
   ]
  },
  {
   "cell_type": "code",
   "execution_count": null,
   "metadata": {
    "collapsed": true
   },
   "outputs": [],
   "source": [
    "a"
   ]
  },
  {
   "cell_type": "code",
   "execution_count": null,
   "metadata": {
    "collapsed": true
   },
   "outputs": [],
   "source": []
  },
  {
   "cell_type": "code",
   "execution_count": null,
   "metadata": {
    "collapsed": true
   },
   "outputs": [],
   "source": []
  }
 ],
 "metadata": {
  "kernelspec": {
   "display_name": "Python 3",
   "language": "python",
   "name": "python3"
  },
  "language_info": {
   "codemirror_mode": {
    "name": "ipython",
    "version": 3
   },
   "file_extension": ".py",
   "mimetype": "text/x-python",
   "name": "python",
   "nbconvert_exporter": "python",
   "pygments_lexer": "ipython3",
   "version": "3.5.4"
  }
 },
 "nbformat": 4,
 "nbformat_minor": 2
}
