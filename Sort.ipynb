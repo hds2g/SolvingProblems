{
 "cells": [
  {
   "cell_type": "code",
   "execution_count": 43,
   "metadata": {},
   "outputs": [],
   "source": [
    "import unittest\n",
    "\n",
    "def bubble_sort(array):\n",
    "    count = 0\n",
    "    for i in range(len(array)-1):\n",
    "        for j in range(len(array)-1-1):\n",
    "            count += 1\n",
    "            if array[j] > array[j+1]:\n",
    "                array[j], array[j+1] = array[j+1], array[j]\n",
    "    print(count)\n",
    "    return array\n",
    "\n"
   ]
  },
  {
   "cell_type": "code",
   "execution_count": 47,
   "metadata": {},
   "outputs": [
    {
     "name": "stdout",
     "output_type": "stream",
     "text": [
      "16\n",
      "[1, 2, 3, 4, 6]\n"
     ]
    }
   ],
   "source": [
    "a = [3,4,6,1,2]\n",
    "#a = [3, 1]\n",
    "print(bubble_sort(a))"
   ]
  },
  {
   "cell_type": "code",
   "execution_count": 58,
   "metadata": {
    "collapsed": true
   },
   "outputs": [],
   "source": [
    "def insertion_sort(arr):\n",
    "    for i in range(len(arr)):\n",
    "        for j in range(i-1, -1, -1):\n",
    "            if arr[i]<arr[j]:\n",
    "                arr[i], arr[j] = arr[j], arr[i]\n",
    "                i -= 1\n",
    "    return arr"
   ]
  },
  {
   "cell_type": "code",
   "execution_count": 59,
   "metadata": {},
   "outputs": [
    {
     "name": "stdout",
     "output_type": "stream",
     "text": [
      "[1, 2, 3, 4, 6]\n"
     ]
    }
   ],
   "source": [
    "a = [3,4,6,1,2]\n",
    "#a = [3, 1]\n",
    "print(insertion_sort(a))"
   ]
  },
  {
   "cell_type": "code",
   "execution_count": 3,
   "metadata": {
    "collapsed": true
   },
   "outputs": [],
   "source": [
    "def selection_srt(arr):\n",
    "    min = 0\n",
    "    swap_index = 0\n",
    "    for i in range(len(arr)):\n",
    "        min = arr[i]\n",
    "        swap_index = 0\n",
    "        for j in range(i,len(arr)):\n",
    "            if min > arr[j]:\n",
    "                min = arr[j]\n",
    "                swap_index = j\n",
    "        if arr[i] is not min:\n",
    "            arr[i], arr[swap_index] = arr[swap_index], arr[i]\n",
    "    return a  "
   ]
  },
  {
   "cell_type": "code",
   "execution_count": 4,
   "metadata": {},
   "outputs": [
    {
     "name": "stdout",
     "output_type": "stream",
     "text": [
      "[1, 2, 3, 4, 6]\n"
     ]
    }
   ],
   "source": [
    "a = [3,4,6,1,2]\n",
    "print(selection_srt(a))"
   ]
  },
  {
   "cell_type": "code",
   "execution_count": null,
   "metadata": {
    "collapsed": true
   },
   "outputs": [],
   "source": []
  }
 ],
 "metadata": {
  "kernelspec": {
   "display_name": "Python 3",
   "language": "python",
   "name": "python3"
  },
  "language_info": {
   "codemirror_mode": {
    "name": "ipython",
    "version": 3
   },
   "file_extension": ".py",
   "mimetype": "text/x-python",
   "name": "python",
   "nbconvert_exporter": "python",
   "pygments_lexer": "ipython3",
   "version": "3.5.4"
  }
 },
 "nbformat": 4,
 "nbformat_minor": 2
}
