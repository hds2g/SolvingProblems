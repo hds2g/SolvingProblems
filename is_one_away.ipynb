{
 "cells": [
  {
   "cell_type": "code",
   "execution_count": 37,
   "metadata": {
    "scrolled": true
   },
   "outputs": [
    {
     "name": "stdout",
     "output_type": "stream",
     "text": [
      "[0, 0, 0, 0, 1]\n",
      "[0, 0, 0, 0, 1]\n",
      "[0, 0, 1, 0, 0, 0]\n",
      "[0, 0, 0, 1, 0, 0]\n",
      "[0, 0, 0, 0, 0, 1]\n",
      "[0, 0, 0]\n",
      "size\n",
      "size\n",
      "[1, 0, 0]\n"
     ]
    },
    {
     "data": {
      "text/plain": [
       "True"
      ]
     },
     "execution_count": 37,
     "metadata": {},
     "output_type": "execute_result"
    }
   ],
   "source": [
    "# Implement your function below.\n",
    "def is_one_away2(s1, s2):\n",
    "    #print(len(s1), len(s2))\n",
    "    if len(s1) != len(s2) and abs(len(s1)-len(s2)) > 1:\n",
    "        print(\"size\")\n",
    "        return False\n",
    "    \n",
    "    if s1 == s2:\n",
    "        return True\n",
    "    \n",
    "    if len(s1) > len(s2):\n",
    "        flag = [1]*len(s1)\n",
    "    else:\n",
    "        flag = [1]*len(s2)\n",
    "        \n",
    "    i=0\n",
    "    for s in s1:\n",
    "        if s in s2:\n",
    "            flag[i] = 0\n",
    "        i+=1\n",
    "    \n",
    "    print(flag)\n",
    "    c = 0\n",
    "    for i in flag:\n",
    "        if i == 1:\n",
    "            c += 1\n",
    "    if c is 1:\n",
    "        return True\n",
    "    \n",
    "    return False\n",
    "\n",
    "\n",
    "def is_one_away2(s1, s2):\n",
    "    if len(s1) != len(s2) and abs(len(s1)-len(s2)) > 1:\n",
    "        return False\n",
    "\n",
    "    if len(s1) > len(s2):\n",
    "        loop = len(s1)\n",
    "    else:\n",
    "        loop = len(s2)\n",
    "    \n",
    "    for i in range(loop):\n",
    "        if s1[i] != s2[i]:\n",
    "            \n",
    "        \n",
    "    \n",
    "    \n",
    "    \n",
    "    \n",
    "# NOTE: The following input values will be used for testing your solution.\n",
    "is_one_away(\"abcde\", \"abcd\")  # should return True\n",
    "is_one_away(\"abde\", \"abcde\")  # should return True\n",
    "is_one_away(\"a\", \"a\")  # should return True\n",
    "is_one_away(\"abcdef\", \"abqdef\")  # should return True\n",
    "is_one_away(\"abcdef\", \"abccef\")  # should return True\n",
    "is_one_away(\"abcdef\", \"abcde\")  # should return True\n",
    "is_one_away(\"aaa\", \"abc\")  # should return False\n",
    "is_one_away(\"abcde\", \"abc\")  # should return False\n",
    "is_one_away(\"abc\", \"abcde\")  # should return False\n",
    "is_one_away(\"abc\", \"bcc\")  # should return False\n"
   ]
  },
  {
   "cell_type": "code",
   "execution_count": 39,
   "metadata": {},
   "outputs": [
    {
     "name": "stdout",
     "output_type": "stream",
     "text": [
      "[1, 0, 0]\n"
     ]
    },
    {
     "data": {
      "text/plain": [
       "True"
      ]
     },
     "execution_count": 39,
     "metadata": {},
     "output_type": "execute_result"
    }
   ],
   "source": [
    "is_one_away(\"abc\", \"bcc\")  "
   ]
  },
  {
   "cell_type": "code",
   "execution_count": 24,
   "metadata": {},
   "outputs": [
    {
     "name": "stdout",
     "output_type": "stream",
     "text": [
      "[0, 0, 0, 0, 1]\n"
     ]
    },
    {
     "data": {
      "text/plain": [
       "True"
      ]
     },
     "execution_count": 24,
     "metadata": {},
     "output_type": "execute_result"
    }
   ],
   "source": [
    "is_one_away(\"abde\", \"abcde\")"
   ]
  },
  {
   "cell_type": "code",
   "execution_count": 25,
   "metadata": {},
   "outputs": [
    {
     "name": "stdout",
     "output_type": "stream",
     "text": [
      "[0]\n"
     ]
    },
    {
     "data": {
      "text/plain": [
       "True"
      ]
     },
     "execution_count": 25,
     "metadata": {},
     "output_type": "execute_result"
    }
   ],
   "source": [
    "is_one_away(\"a\", \"a\") "
   ]
  },
  {
   "cell_type": "code",
   "execution_count": 26,
   "metadata": {},
   "outputs": [
    {
     "name": "stdout",
     "output_type": "stream",
     "text": [
      "[0, 0, 1, 0, 0, 0]\n"
     ]
    },
    {
     "data": {
      "text/plain": [
       "True"
      ]
     },
     "execution_count": 26,
     "metadata": {},
     "output_type": "execute_result"
    }
   ],
   "source": [
    "is_one_away(\"abcdef\", \"abqdef\")"
   ]
  },
  {
   "cell_type": "code",
   "execution_count": null,
   "metadata": {
    "collapsed": true
   },
   "outputs": [],
   "source": []
  }
 ],
 "metadata": {
  "kernelspec": {
   "display_name": "Python 3",
   "language": "python",
   "name": "python3"
  },
  "language_info": {
   "codemirror_mode": {
    "name": "ipython",
    "version": 3
   },
   "file_extension": ".py",
   "mimetype": "text/x-python",
   "name": "python",
   "nbconvert_exporter": "python",
   "pygments_lexer": "ipython3",
   "version": "3.5.4"
  }
 },
 "nbformat": 4,
 "nbformat_minor": 2
}
