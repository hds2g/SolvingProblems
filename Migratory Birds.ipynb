{
 "cells": [
  {
   "cell_type": "code",
   "execution_count": 2,
   "metadata": {},
   "outputs": [
    {
     "name": "stdout",
     "output_type": "stream",
     "text": [
      "3\n"
     ]
    }
   ],
   "source": [
    "#!/bin/python3\n",
    "\n",
    "import math\n",
    "import os\n",
    "import random\n",
    "import re\n",
    "import sys\n",
    "\n",
    "# Complete the migratoryBirds function below.\n",
    "def migratoryBirds(ar):\n",
    "    if ar is None:\n",
    "        return 0\n",
    "    hash = {}\n",
    "    \n",
    "    for i in ar:\n",
    "        if i not in hash:\n",
    "            hash[i] = 1\n",
    "        else:\n",
    "            hash[i] += 1\n",
    "    max_item = max_count = 0\n",
    "    for item, count in hash.items():\n",
    "        if count > max_count:\n",
    "            max_count = count\n",
    "            max_item = item\n",
    "    return max_item\n",
    "\n",
    "if __name__ == '__main__':\n",
    "    ar = [1,2,3,3,3,4,5,6,6]\n",
    "\n",
    "    print(migratoryBirds(ar))\n",
    "\n",
    "   "
   ]
  },
  {
   "cell_type": "code",
   "execution_count": null,
   "metadata": {
    "collapsed": true
   },
   "outputs": [],
   "source": []
  }
 ],
 "metadata": {
  "kernelspec": {
   "display_name": "Python 3",
   "language": "python",
   "name": "python3"
  },
  "language_info": {
   "codemirror_mode": {
    "name": "ipython",
    "version": 3
   },
   "file_extension": ".py",
   "mimetype": "text/x-python",
   "name": "python",
   "nbconvert_exporter": "python",
   "pygments_lexer": "ipython3",
   "version": "3.5.4"
  }
 },
 "nbformat": 4,
 "nbformat_minor": 2
}
