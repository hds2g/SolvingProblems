{
 "cells": [
  {
   "cell_type": "code",
   "execution_count": 2,
   "metadata": {},
   "outputs": [
    {
     "data": {
      "text/plain": [
       "'7 -> 6 -> 5 -> 4 -> 3 -> 2 -> 1 -> (None)'"
      ]
     },
     "execution_count": 2,
     "metadata": {},
     "output_type": "execute_result"
    }
   ],
   "source": [
    "'''\n",
    "# Use this class to create linked lists.\n",
    "class Node:\n",
    "    def __init__(self, value, child=None):\n",
    "        self.value = value\n",
    "        self.child = child\n",
    "\n",
    "    # The string representation of this node.\n",
    "    # Will be used for testing.\n",
    "    def __str__(self):\n",
    "        return str(self.value)\n",
    "\n",
    "\n",
    "# Implement your function below.\n",
    "def nth_from_last(head, n):\n",
    "    return head\n",
    "\n",
    "\n",
    "# NOTE: Feel free to use the following function for testing.\n",
    "# It converts the given linked list into an easy-to-read string format.\n",
    "# Example: 7 -> 6 -> 5 -> 4 -> 3 -> 2 -> 1 -> (None)\n",
    "def linked_list_to_string(head):\n",
    "    current = head\n",
    "    str_list = []\n",
    "    while current:\n",
    "        str_list.append(str(current.value))\n",
    "        current = current.child\n",
    "    str_list.append('(None)')\n",
    "    return ' -> '.join(str_list)\n",
    "\n",
    "\n",
    "# NOTE: The following input values will be used for testing your solution.\n",
    "current = Node(1)\n",
    "for i in range(2, 8):\n",
    "    current = Node(i, current)\n",
    "head = current\n",
    "# head = 7 -> 6 -> 5 -> 4 -> 3 -> 2 -> 1 -> (None)\n",
    "\n",
    "current2 = Node(4)\n",
    "for i in range(3, 0, -1):\n",
    "    current2 = Node(i, current2)\n",
    "head2 = current2\n",
    "# head2 = 1 -> 2 -> 3 -> 4 -> (None)\n",
    "linked_list_to_string(head)\n",
    "\n",
    "\n",
    "# nth_from_last(head, 1) should return 1.\n",
    "# nth_from_last(head, 5) should return 5.\n",
    "# nth_from_last(head2, 2) should return 3.\n",
    "# nth_from_last(head2, 4) should return 1.\n",
    "# nth_from_last(head2, 5) should return None.\n",
    "# nth_from_last(None, 1) should return None.\n",
    "'''"
   ]
  },
  {
   "cell_type": "code",
   "execution_count": null,
   "metadata": {
    "collapsed": true
   },
   "outputs": [],
   "source": [
    "class Node:\n",
    "    def __init__(self, val):\n",
    "        self.val = val\n",
    "        #print(val)\n",
    "        self.next = None\n",
    "    \n",
    "class LinkedList:\n",
    "    def __init__(self, val):\n",
    "        self.head = Node(val)\n",
    "    \n",
    "    def add(self,val, loc=None):\n",
    "        #cur = head.next\n",
    "        cur = self.head\n",
    "        while cur.next is not None:\n",
    "            cur = cur.next\n",
    "            if loc is not None:\n",
    "                if cur is loc:\n",
    "                    t = Node(val)\n",
    "                    cur.next = t\n",
    "                    t.next = cur\n",
    "                    return\n",
    "        cur.next = Node(val)\n",
    "        \n",
    "    def getNode(self,val):\n",
    "        cur = self.head\n",
    "        if cur.val is val:\n",
    "            return cur\n",
    "        while cur.next is not None:\n",
    "            cur = cur.next\n",
    "            if cur.val is val:\n",
    "                return cur\n",
    "\n",
    "    def toString(self):\n",
    "        cur = self.head\n",
    "        if cur is not None:\n",
    "            print(cur.val)\n",
    "        while cur.next is not None:\n",
    "            cur = cur.next\n",
    "            print(cur.val)\n",
    "            \n",
    "    def nth_from_end(self, n):\n",
    "        ret = []\n",
    "        if n <= 0:\n",
    "            return None\n",
    "        \n",
    "        cur = self.head\n",
    "        if cur is None:\n",
    "            return None\n",
    "        \n",
    "        count = 1\n",
    "        while cur.next is not None:\n",
    "            cur = cur.next\n",
    "            count += 1\n",
    "        \n",
    "        if count < n:\n",
    "            return None\n",
    "        \n",
    "        move = count - n\n",
    "        \n",
    "        cur = self.head\n",
    "        while move is not 0:\n",
    "            cur = cur.next\n",
    "            move -= 1\n",
    "\n",
    "        ret.append(cur.val)\n",
    "        while cur.next is not None:\n",
    "            cur = cur.next\n",
    "            ret.append(cur.val)\n",
    "        \n",
    "        return ret\n",
    "        \n",
    "\n",
    "head = LinkedList(1)\n",
    "head.add(2)\n",
    "head.add(3)\n",
    "head.add(4)\n",
    "head.add(5)\n",
    "node = head.getNode(5)\n",
    "head.add(6, node)\n",
    "head.toString()\n",
    "print(\"aa\")\n",
    "\n",
    "#print(head.nth_from_end(6))"
   ]
  },
  {
   "cell_type": "code",
   "execution_count": null,
   "metadata": {
    "collapsed": true
   },
   "outputs": [],
   "source": [
    "print(node.val)"
   ]
  },
  {
   "cell_type": "code",
   "execution_count": null,
   "metadata": {
    "collapsed": true
   },
   "outputs": [],
   "source": [
    "a.val"
   ]
  },
  {
   "cell_type": "code",
   "execution_count": null,
   "metadata": {
    "collapsed": true
   },
   "outputs": [],
   "source": [
    "print(a.next)"
   ]
  },
  {
   "cell_type": "code",
   "execution_count": null,
   "metadata": {
    "collapsed": true
   },
   "outputs": [],
   "source": [
    "print(\"aa\")"
   ]
  },
  {
   "cell_type": "code",
   "execution_count": null,
   "metadata": {
    "collapsed": true
   },
   "outputs": [],
   "source": [
    "print(sqrt(54))"
   ]
  },
  {
   "cell_type": "code",
   "execution_count": null,
   "metadata": {
    "collapsed": true
   },
   "outputs": [],
   "source": []
  }
 ],
 "metadata": {
  "kernelspec": {
   "display_name": "Python 3",
   "language": "python",
   "name": "python3"
  },
  "language_info": {
   "codemirror_mode": {
    "name": "ipython",
    "version": 3
   },
   "file_extension": ".py",
   "mimetype": "text/x-python",
   "name": "python",
   "nbconvert_exporter": "python",
   "pygments_lexer": "ipython3",
   "version": "3.5.4"
  }
 },
 "nbformat": 4,
 "nbformat_minor": 2
}
