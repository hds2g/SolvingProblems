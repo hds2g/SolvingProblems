{
 "cells": [
  {
   "cell_type": "code",
   "execution_count": 2,
   "metadata": {},
   "outputs": [
    {
     "name": "stdout",
     "output_type": "stream",
     "text": [
      "Splitting  [6, 2, 5, 5, 5, 7, 5, 8]\n",
      "Splitting  [6, 2, 5, 5]\n",
      "Splitting  [6, 2]\n",
      "Splitting  [6]\n",
      "Merging  [6]\n",
      "Splitting  [2]\n",
      "Merging  [2]\n",
      "Merging  [2, 6]\n",
      "Splitting  [5, 5]\n",
      "Splitting  [5]\n",
      "Merging  [5]\n",
      "Splitting  [5]\n",
      "Merging  [5]\n",
      "Merging  [5, 5]\n",
      "Merging  [2, 5, 5, 6]\n",
      "Splitting  [5, 7, 5, 8]\n",
      "Splitting  [5, 7]\n",
      "Splitting  [5]\n",
      "Merging  [5]\n",
      "Splitting  [7]\n",
      "Merging  [7]\n",
      "Merging  [5, 7]\n",
      "Splitting  [5, 8]\n",
      "Splitting  [5]\n",
      "Merging  [5]\n",
      "Splitting  [8]\n",
      "Merging  [8]\n",
      "Merging  [5, 8]\n",
      "Merging  [5, 5, 7, 8]\n",
      "Merging  [2, 5, 5, 5, 5, 6, 7, 8]\n",
      "[2, 5, 5, 5, 5, 6, 7, 8]\n"
     ]
    }
   ],
   "source": [
    "def mergeSort(alist):\n",
    "    print(\"Splitting \",alist)\n",
    "    if len(alist)>1:\n",
    "        mid = len(alist)//2\n",
    "        lefthalf = alist[:mid]\n",
    "        righthalf = alist[mid:]\n",
    "\n",
    "        mergeSort(lefthalf)\n",
    "        mergeSort(righthalf)\n",
    "\n",
    "        i=0\n",
    "        j=0\n",
    "        k=0\n",
    "        while i < len(lefthalf) and j < len(righthalf):\n",
    "            if lefthalf[i] < righthalf[j]:\n",
    "                alist[k]=lefthalf[i]\n",
    "                i=i+1\n",
    "            else:\n",
    "                alist[k]=righthalf[j]\n",
    "                j=j+1\n",
    "            k=k+1\n",
    "\n",
    "        # remaining list\n",
    "        while i < len(lefthalf):\n",
    "            alist[k]=lefthalf[i]\n",
    "            i=i+1\n",
    "            k=k+1\n",
    "\n",
    "        while j < len(righthalf):\n",
    "            alist[k]=righthalf[j]\n",
    "            j=j+1\n",
    "            k=k+1\n",
    "    print(\"Merging \",alist)\n",
    "\n",
    "alist = [6,2,5,5,5,7,5,8]\n",
    "mergeSort(alist)\n",
    "print(alist)"
   ]
  },
  {
   "cell_type": "code",
   "execution_count": null,
   "metadata": {
    "collapsed": true
   },
   "outputs": [],
   "source": []
  }
 ],
 "metadata": {
  "kernelspec": {
   "display_name": "Python 3",
   "language": "python",
   "name": "python3"
  },
  "language_info": {
   "codemirror_mode": {
    "name": "ipython",
    "version": 3
   },
   "file_extension": ".py",
   "mimetype": "text/x-python",
   "name": "python",
   "nbconvert_exporter": "python",
   "pygments_lexer": "ipython3",
   "version": "3.5.4"
  }
 },
 "nbformat": 4,
 "nbformat_minor": 2
}
