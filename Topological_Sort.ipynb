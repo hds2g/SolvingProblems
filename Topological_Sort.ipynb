{
 "cells": [
  {
   "cell_type": "markdown",
   "metadata": {},
   "source": [
    "# Topological Sort"
   ]
  },
  {
   "cell_type": "markdown",
   "metadata": {},
   "source": [
    "단방향 그래프에서 A->B의 관계가 있을 경우, 반드시 A를 먼저 출력 후, B를 출력합니다.\n",
    "A->B<-C일 경우, A 또는 C를 먼저 출력 후, B를 출력합니다. A와 C의 출력 순서는 상관없습니다.\n",
    "위상 정렬은 보통 대학교의 어떤 수업을 듣기 위해서 반드시 기초 수업을 마쳐야 할 경우, 어떤 수업부터 들어야하는 지\n",
    "정렬할 때 많이 사용합니다.\n",
    "또한 어떤 프로그램을 빌드할 때, 위상 정렬을 사용하여, 기초 라이브러리부터 응용 라이브러리를 순서대로 호출하기도 합니다."
   ]
  },
  {
   "cell_type": "markdown",
   "metadata": {},
   "source": [
    "## defaultdict vs dictionary"
   ]
  },
  {
   "cell_type": "code",
   "execution_count": 8,
   "metadata": {
    "collapsed": true
   },
   "outputs": [],
   "source": [
    "import collections"
   ]
  },
  {
   "cell_type": "code",
   "execution_count": 12,
   "metadata": {},
   "outputs": [
    {
     "name": "stdout",
     "output_type": "stream",
     "text": [
      "[('b', 1), ('c', 1), ('a', 1)]\n"
     ]
    }
   ],
   "source": [
    "# 4-1. 기본 딕셔녀리(dict)\n",
    "s = ['a', 'b', 'c', 'b', 'a', 'b', 'c']\n",
    "d = {}\n",
    "for k in s:\n",
    "    d.setdefault(k, 0) # 기본 딕셔너리(d)의 초기값 지정\n",
    "    #d[k] = 0\n",
    "    d[k] += 1\n",
    "print(list(d.items()))\n"
   ]
  },
  {
   "cell_type": "code",
   "execution_count": 6,
   "metadata": {},
   "outputs": [
    {
     "name": "stdout",
     "output_type": "stream",
     "text": [
      "[('b', 3), ('c', 2), ('a', 2)]\n"
     ]
    }
   ],
   "source": [
    "\n",
    "# 4-2. defaultdict 이용\n",
    "dd = collections.defaultdict(int)\n",
    "for k in s:\n",
    "    dd[k] += 1\n",
    "print(list(dd.items()))\n"
   ]
  },
  {
   "cell_type": "code",
   "execution_count": 7,
   "metadata": {},
   "outputs": [
    {
     "name": "stdout",
     "output_type": "stream",
     "text": [
      "[('b', 3), ('c', 2), ('a', 2)]\n"
     ]
    }
   ],
   "source": [
    "\n",
    "# 4-3. 번외 - collections.Counter()이용\n",
    "c = collections.Counter(s)\n",
    "print(list(c.items()))\n"
   ]
  },
  {
   "cell_type": "code",
   "execution_count": 14,
   "metadata": {},
   "outputs": [
    {
     "data": {
      "text/plain": [
       "'\\na ---> d ---> e <--- c\\n       ^\\n       |\\n       b\\n'"
      ]
     },
     "execution_count": 14,
     "metadata": {},
     "output_type": "execute_result"
    }
   ],
   "source": [
    "\"\"\"\n",
    "a ---> d ---> e <--- c\n",
    "       ^\n",
    "       |\n",
    "       b\n",
    "\"\"\""
   ]
  },
  {
   "cell_type": "code",
   "execution_count": 15,
   "metadata": {
    "collapsed": true
   },
   "outputs": [],
   "source": [
    "from collections import defaultdict"
   ]
  },
  {
   "cell_type": "markdown",
   "metadata": {},
   "source": [
    "엣지 정보를 딕셔너리에 저장"
   ]
  },
  {
   "cell_type": "code",
   "execution_count": 18,
   "metadata": {
    "collapsed": true
   },
   "outputs": [],
   "source": [
    "adjacency_list = defaultdict()\n",
    "adjacency_list['a'] = ['d']\n",
    "adjacency_list['b'] = ['d']\n",
    "adjacency_list['c'] = ['e']\n",
    "adjacency_list['d'] = ['e']\n",
    "adjacency_list['e'] = []"
   ]
  },
  {
   "cell_type": "markdown",
   "metadata": {},
   "source": [
    "노드의 정보를 visited_list에 저장"
   ]
  },
  {
   "cell_type": "code",
   "execution_count": 53,
   "metadata": {},
   "outputs": [
    {
     "data": {
      "text/plain": [
       "defaultdict(None, {'a': False, 'b': False, 'c': False, 'd': False, 'e': False})"
      ]
     },
     "execution_count": 53,
     "metadata": {},
     "output_type": "execute_result"
    }
   ],
   "source": [
    "visited_list = defaultdict()\n",
    "visited_list['a'] = False\n",
    "visited_list['b'] = False\n",
    "visited_list['c'] = False\n",
    "visited_list['d'] = False\n",
    "visited_list['e'] = False\n",
    "visited_list"
   ]
  },
  {
   "cell_type": "code",
   "execution_count": 49,
   "metadata": {
    "collapsed": true
   },
   "outputs": [],
   "source": [
    "output_stack = []"
   ]
  },
  {
   "cell_type": "markdown",
   "metadata": {},
   "source": [
    "노드 방문 시, visited_list의 해당 노드값을 True로 변경하여, \n",
    "다시 방문 하지 못하도록 합니다.\n",
    "방문된 노드의 이웃 노드들을 차례대로 재귀적으로 위상정렬을 수행합니다.\n",
    "모든 이웃 노드를 방문 했을 시, 현재 노드를 output 스택에 저장합니다."
   ]
  },
  {
   "cell_type": "code",
   "execution_count": 50,
   "metadata": {},
   "outputs": [],
   "source": [
    "def topology_sort(vertex):\n",
    "    if not visited_list[vertex]:\n",
    "        visited_list[vertex] = True\n",
    "        #print(adjacency_list[vertex])\n",
    "        for neighbor in adjacency_list[vertex]:\n",
    "            topology_sort(neighbor)\n",
    "        output_stack.insert(0,vertex)"
   ]
  },
  {
   "cell_type": "markdown",
   "metadata": {},
   "source": [
    "visited_list의 첫번째 노드부터 위상정렬을 수행"
   ]
  },
  {
   "cell_type": "code",
   "execution_count": 54,
   "metadata": {
    "scrolled": true
   },
   "outputs": [
    {
     "name": "stdout",
     "output_type": "stream",
     "text": [
      "b\n",
      "e\n",
      "d\n",
      "c\n",
      "a\n"
     ]
    }
   ],
   "source": [
    "for vertex in visited_list:\n",
    "    print(vertex)\n",
    "    topology_sort(vertex)\n"
   ]
  },
  {
   "cell_type": "code",
   "execution_count": 52,
   "metadata": {},
   "outputs": [
    {
     "data": {
      "text/plain": [
       "['a', 'c', 'b', 'd', 'e']"
      ]
     },
     "execution_count": 52,
     "metadata": {},
     "output_type": "execute_result"
    }
   ],
   "source": [
    "output_stack"
   ]
  },
  {
   "cell_type": "code",
   "execution_count": null,
   "metadata": {
    "collapsed": true
   },
   "outputs": [],
   "source": []
  }
 ],
 "metadata": {
  "kernelspec": {
   "display_name": "Python 3",
   "language": "python",
   "name": "python3"
  },
  "language_info": {
   "codemirror_mode": {
    "name": "ipython",
    "version": 3
   },
   "file_extension": ".py",
   "mimetype": "text/x-python",
   "name": "python",
   "nbconvert_exporter": "python",
   "pygments_lexer": "ipython3",
   "version": "3.5.4"
  }
 },
 "nbformat": 4,
 "nbformat_minor": 2
}
