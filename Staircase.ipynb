{
 "cells": [
  {
   "cell_type": "markdown",
   "metadata": {},
   "source": [
    "# Staircase"
   ]
  },
  {
   "cell_type": "markdown",
   "metadata": {},
   "source": [
    "Consider a staircase of size :\n",
    "\n",
    "       #\n",
    "      ##\n",
    "     ###\n",
    "    ####\n",
    "Observe that its base and height are both equal to , and the image is drawn using # symbols and spaces. The last line is not preceded by any spaces.\n",
    "\n",
    "Write a program that prints a staircase of size .\n",
    "\n",
    "Input Format\n",
    "\n",
    "A single integer, , denoting the size of the staircase.\n",
    "\n",
    "Output Format\n",
    "\n",
    "Print a staircase of size  using # symbols and spaces.\n",
    "\n",
    "Note: The last line must have  spaces in it.\n",
    "\n",
    "Sample Input\n",
    "\n",
    "6 \n",
    "Sample Output\n",
    "\n",
    "         #\n",
    "        ##\n",
    "       ###\n",
    "      ####\n",
    "     #####\n",
    "    ######\n",
    "Explanation\n",
    "\n",
    "The staircase is right-aligned, composed of # symbols and spaces, and has a height and width of ."
   ]
  },
  {
   "cell_type": "code",
   "execution_count": 21,
   "metadata": {},
   "outputs": [
    {
     "name": "stdout",
     "output_type": "stream",
     "text": [
      "4\n",
      "   #\n",
      "  ##\n",
      " ###\n",
      "####\n"
     ]
    }
   ],
   "source": [
    "#!/bin/python3\n",
    "\n",
    "import math\n",
    "import os\n",
    "import random\n",
    "import re\n",
    "import sys\n",
    "\n",
    "# Complete the staircase function below.\n",
    "def staircase(n):\n",
    "    \n",
    "    for step in reversed(range(n)):\n",
    "        for i in range(step):\n",
    "            print(\" \", end='')\n",
    "        \n",
    "        for s in range(n-step):\n",
    "            print(\"#\", end='')\n",
    "        print(\"\")\n",
    "\n",
    "def staircase2(n):\n",
    "    s = '#'\n",
    "    for i in range(1 , n+1):\n",
    "        print(\" \"*(n-i) + s*i)\n",
    "\n",
    "        \n",
    "if __name__ == '__main__':\n",
    "    n = int(input())\n",
    "\n",
    "    staircase2(n)"
   ]
  },
  {
   "cell_type": "code",
   "execution_count": 20,
   "metadata": {},
   "outputs": [
    {
     "data": {
      "text/plain": [
       "' ##'"
      ]
     },
     "execution_count": 20,
     "metadata": {},
     "output_type": "execute_result"
    }
   ],
   "source": [
    "\" \"*1+'#'*2"
   ]
  }
 ],
 "metadata": {
  "kernelspec": {
   "display_name": "Python 3",
   "language": "python",
   "name": "python3"
  },
  "language_info": {
   "codemirror_mode": {
    "name": "ipython",
    "version": 3
   },
   "file_extension": ".py",
   "mimetype": "text/x-python",
   "name": "python",
   "nbconvert_exporter": "python",
   "pygments_lexer": "ipython3",
   "version": "3.5.4"
  }
 },
 "nbformat": 4,
 "nbformat_minor": 2
}
