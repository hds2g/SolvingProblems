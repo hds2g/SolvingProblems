{
 "cells": [
  {
   "cell_type": "markdown",
   "metadata": {},
   "source": [
    "# Binary Search\n",
    "\n",
    "빌드가 성공하면 S, 실패하면 F로 표시되는 자동 빌드 시스템에 누군가 버그 코드를 올려서\n",
    "아래와 같이 4번째 빌드부터 빌드가 실패한 것을 확인 할 수 있습니다.\n",
    "[S, S ,S, F, F, F, F]\n",
    "\n",
    "시간 복잡도 O(log N)의 버그가 최초로 유입된 빌드 인덱스를 탐색하는 알고리즘을 구현하세요."
   ]
  },
  {
   "cell_type": "code",
   "execution_count": 4,
   "metadata": {
    "collapsed": true
   },
   "outputs": [],
   "source": [
    "def binary_search(input, l, r):\n",
    "    if len(input) < 1:\n",
    "        return -1\n",
    "    \n",
    "    while l < r:\n",
    "        mid = (l+r) // 2 # // quotient(몫) 연산자\n",
    "        if input[mid] == 'F':\n",
    "            r = mid\n",
    "        else:\n",
    "            l = mid + 1\n",
    "        \n",
    "    return l if input[l] == 'F' else -1\n"
   ]
  },
  {
   "cell_type": "code",
   "execution_count": 5,
   "metadata": {},
   "outputs": [
    {
     "name": "stdout",
     "output_type": "stream",
     "text": [
      "3\n"
     ]
    }
   ],
   "source": [
    "input = [\"S\", \"S\", \"S\", \"F\", \"F\", \"F\", \"F\", \"F\", \"F\", \"F\"]\n",
    "idx = binary_search(input, 0 , len(input)-1)\n",
    "print(idx)\n"
   ]
  },
  {
   "cell_type": "code",
   "execution_count": 6,
   "metadata": {},
   "outputs": [
    {
     "name": "stdout",
     "output_type": "stream",
     "text": [
      "9\n"
     ]
    }
   ],
   "source": [
    "input = [\"S\", \"S\", \"S\", \"S\", \"S\", \"S\", \"S\", \"S\", \"S\", \"F\"]\n",
    "idx = binary_search(input, 0 , len(input)-1)\n",
    "print(idx)"
   ]
  },
  {
   "cell_type": "code",
   "execution_count": null,
   "metadata": {
    "collapsed": true
   },
   "outputs": [],
   "source": []
  }
 ],
 "metadata": {
  "kernelspec": {
   "display_name": "Python 3",
   "language": "python",
   "name": "python3"
  },
  "language_info": {
   "codemirror_mode": {
    "name": "ipython",
    "version": 3
   },
   "file_extension": ".py",
   "mimetype": "text/x-python",
   "name": "python",
   "nbconvert_exporter": "python",
   "pygments_lexer": "ipython3",
   "version": "3.5.4"
  }
 },
 "nbformat": 4,
 "nbformat_minor": 2
}
