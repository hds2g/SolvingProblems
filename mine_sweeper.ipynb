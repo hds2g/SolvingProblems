{
 "cells": [
  {
   "cell_type": "code",
   "execution_count": 47,
   "metadata": {
    "collapsed": true
   },
   "outputs": [],
   "source": [
    "def mine_sweeper(bombs, rows, cols):\n",
    "    \n",
    "    matrix = [[0 for c in range(cols)] for r in range(rows)]\n",
    "    for b in bombs:\n",
    "        matrix[b[0]][b[1]] = -1\n",
    "    \n",
    "    for r in range(rows):\n",
    "        for c in range(cols):\n",
    "            if matrix[r][c] is -1:\n",
    "                continue\n",
    "            else:\n",
    "                count = 0\n",
    "                for b in bombs:\n",
    "                    if abs(b[0]-r) <= 1 and abs(b[1]-c) <= 1:\n",
    "                        count += 1\n",
    "                matrix[r][c] = count\n",
    "    print(matrix)\n",
    "                \n",
    "    "
   ]
  },
  {
   "cell_type": "code",
   "execution_count": 48,
   "metadata": {},
   "outputs": [
    {
     "name": "stdout",
     "output_type": "stream",
     "text": [
      "[[-1, -1, 1, 0], [2, 2, 1, 0], [0, 0, 0, 0]]\n"
     ]
    }
   ],
   "source": [
    "mine_sweeper([[0,0],[0,1]], 3, 4)"
   ]
  },
  {
   "cell_type": "code",
   "execution_count": 16,
   "metadata": {
    "collapsed": true
   },
   "outputs": [],
   "source": [
    "matrix = [[0 for c in range(3)] for r in range(4)]"
   ]
  },
  {
   "cell_type": "code",
   "execution_count": 17,
   "metadata": {},
   "outputs": [
    {
     "data": {
      "text/plain": [
       "[[0, 0, 0], [0, 0, 0], [0, 0, 0], [0, 0, 0]]"
      ]
     },
     "execution_count": 17,
     "metadata": {},
     "output_type": "execute_result"
    }
   ],
   "source": [
    "matrix"
   ]
  },
  {
   "cell_type": "code",
   "execution_count": 49,
   "metadata": {},
   "outputs": [
    {
     "name": "stdout",
     "output_type": "stream",
     "text": [
      "[[0, 1, -1], [1, 2, 1], [-1, 1, 0]]\n"
     ]
    }
   ],
   "source": [
    "mine_sweeper([[0, 2], [2, 0]], 3, 3)"
   ]
  },
  {
   "cell_type": "code",
   "execution_count": 50,
   "metadata": {},
   "outputs": [
    {
     "name": "stdout",
     "output_type": "stream",
     "text": [
      "[[-1, -1, 2, 1], [2, 3, -1, 1], [0, 1, 1, 1]]\n"
     ]
    }
   ],
   "source": [
    "mine_sweeper([[0, 0], [0, 1], [1, 2]], 3, 4) "
   ]
  },
  {
   "cell_type": "code",
   "execution_count": 51,
   "metadata": {},
   "outputs": [
    {
     "name": "stdout",
     "output_type": "stream",
     "text": [
      "[[1, 2, 2, 1, 0], [1, -1, -1, 2, 0], [1, 3, -1, 2, 0], [0, 1, 2, 2, 1], [0, 0, 1, -1, 1]]\n"
     ]
    }
   ],
   "source": [
    "mine_sweeper([[1, 1], [1, 2], [2, 2], [4, 3]], 5, 5)"
   ]
  },
  {
   "cell_type": "code",
   "execution_count": 77,
   "metadata": {
    "collapsed": true
   },
   "outputs": [],
   "source": [
    "# Implement your function below.\n",
    "def click(field, num_rows, num_cols, given_i, given_j):\n",
    "    to_check = []\n",
    "    if field[given_i][given_j] == 0:\n",
    "        field[given_i][given_j] = -2\n",
    "        to_check.append([given_i, given_j])\n",
    "    else:\n",
    "        return field\n",
    "    \n",
    "    \n",
    "    while len(to_check) >=1:\n",
    "        print(to_check)\n",
    "        ci, cj = to_check.pop()\n",
    "        for i in range(ci-1, ci+2):\n",
    "            for j in range(cj-1, cj+2):\n",
    "                if 0 <= i < num_rows and 0 <= j < num_cols and field[i][j]==0:\n",
    "                    field[i][j] = -2\n",
    "                    to_check.append([i,j])\n",
    "    \n",
    "    return field\n",
    "\n",
    "\n",
    "# NOTE: Feel free to use the following function for testing.\n",
    "# It converts a 2-dimensional array (a list of lists) into\n",
    "# an easy-to-read string format.\n",
    "def to_string(given_array):\n",
    "    list_rows = []\n",
    "    for row in given_array:\n",
    "        list_rows.append(str(row))\n",
    "    return '[' + ',\\n '.join(list_rows) + ']'\n",
    "\n",
    "\n",
    "# NOTE: The following input values will be used for testing your solution.\n",
    "field1 = [[0, 0, 0, 0, 0],\n",
    "          [0, 1, 1, 1, 0],\n",
    "          [0, 1, -1, 1, 0]]\n",
    "\n",
    "# click(field1, 3, 5, 2, 2) should return:\n",
    "# [[0, 0, 0, 0, 0],\n",
    "#  [0, 1, 1, 1, 0],\n",
    "#  [0, 1, -1, 1, 0]]\n",
    "\n",
    "# click(field1, 3, 5, 1, 4) should return:\n",
    "# [[-2, -2, -2, -2, -2],\n",
    "#  [-2, 1, 1, 1, -2],\n",
    "#  [-2, 1, -1, 1, -2]]\n",
    "\n",
    "\n",
    "field2 = [[-1, 1, 0, 0],\n",
    "          [1, 1, 0, 0],\n",
    "          [0, 0, 1, 1],\n",
    "          [0, 0, 1, -1]]\n",
    "\n",
    "# click(field2, 4, 4, 0, 1) should return:\n",
    "# [[-1, 1, 0, 0],\n",
    "#  [1, 1, 0, 0],\n",
    "#  [0, 0, 1, 1],\n",
    "#  [0, 0, 1, -1]]\n",
    "\n",
    "# click(field2, 4, 4, 1, 3) should return:\n",
    "# [[-1, 1, -2, -2],\n",
    "#  [1, 1, -2, -2],\n",
    "#  [-2, -2, 1, 1],\n",
    "#  [-2, -2, 1, -1]]\n"
   ]
  },
  {
   "cell_type": "code",
   "execution_count": 78,
   "metadata": {},
   "outputs": [
    {
     "name": "stdout",
     "output_type": "stream",
     "text": [
      "[[1, 4]]\n",
      "[[0, 3], [0, 4], [2, 4]]\n",
      "[[0, 3], [0, 4]]\n",
      "[[0, 3]]\n",
      "[[0, 2]]\n",
      "[[0, 1]]\n",
      "[[0, 0], [1, 0]]\n",
      "[[0, 0], [2, 0]]\n",
      "[[0, 0]]\n"
     ]
    },
    {
     "data": {
      "text/plain": [
       "[[-2, -2, -2, -2, -2], [-2, 1, 1, 1, -2], [-2, 1, -1, 1, -2]]"
      ]
     },
     "execution_count": 78,
     "metadata": {},
     "output_type": "execute_result"
    }
   ],
   "source": [
    "click(field1, 3, 5, 1, 4)"
   ]
  },
  {
   "cell_type": "code",
   "execution_count": 55,
   "metadata": {},
   "outputs": [
    {
     "data": {
      "text/plain": [
       "4"
      ]
     },
     "execution_count": 55,
     "metadata": {},
     "output_type": "execute_result"
    }
   ],
   "source": [
    "q"
   ]
  },
  {
   "cell_type": "code",
   "execution_count": 57,
   "metadata": {},
   "outputs": [
    {
     "data": {
      "text/plain": [
       "5"
      ]
     },
     "execution_count": 57,
     "metadata": {},
     "output_type": "execute_result"
    }
   ],
   "source": [
    "w"
   ]
  },
  {
   "cell_type": "code",
   "execution_count": 69,
   "metadata": {},
   "outputs": [
    {
     "data": {
      "text/plain": [
       "[1, 2]"
      ]
     },
     "execution_count": 69,
     "metadata": {},
     "output_type": "execute_result"
    }
   ],
   "source": [
    "a = [[1,2]]\n",
    "a.pop()"
   ]
  },
  {
   "cell_type": "code",
   "execution_count": null,
   "metadata": {
    "collapsed": true
   },
   "outputs": [],
   "source": []
  }
 ],
 "metadata": {
  "kernelspec": {
   "display_name": "Python 3",
   "language": "python",
   "name": "python3"
  },
  "language_info": {
   "codemirror_mode": {
    "name": "ipython",
    "version": 3
   },
   "file_extension": ".py",
   "mimetype": "text/x-python",
   "name": "python",
   "nbconvert_exporter": "python",
   "pygments_lexer": "ipython3",
   "version": "3.5.4"
  }
 },
 "nbformat": 4,
 "nbformat_minor": 2
}
