{
 "cells": [
  {
   "cell_type": "code",
   "execution_count": 50,
   "metadata": {},
   "outputs": [
    {
     "name": "stdout",
     "output_type": "stream",
     "text": [
      "[1, 0, 0, 0]\n"
     ]
    }
   ],
   "source": [
    "# [1,2,3] -> [1,2,4]\n",
    "# [9,9,9] -> [1,0,0,0]\n",
    "\n",
    "def array_plus_one(arr):\n",
    "\n",
    "    result = [0]*len(arr)\n",
    "    carry = 1\n",
    "    for n in range(len(arr)-1,-1,-1):\n",
    "        if arr[n]+carry == 10:\n",
    "            result[n] = 0\n",
    "        else:\n",
    "            result[n] = arr[n]+carry\n",
    "            carry = 0\n",
    "    if carry is 1:\n",
    "        result.insert(0,1)\n",
    "        \n",
    "    return result\n",
    "    \n",
    "\n",
    "arr = [9,9,9]\n",
    "print(array_plus_one(arr))"
   ]
  },
  {
   "cell_type": "code",
   "execution_count": 48,
   "metadata": {
    "collapsed": true
   },
   "outputs": [],
   "source": [
    "a = [1, 2, 3]\n",
    "b = a.insert(0, 4)"
   ]
  },
  {
   "cell_type": "code",
   "execution_count": 49,
   "metadata": {},
   "outputs": [],
   "source": [
    "b"
   ]
  },
  {
   "cell_type": "code",
   "execution_count": null,
   "metadata": {
    "collapsed": true
   },
   "outputs": [],
   "source": []
  },
  {
   "cell_type": "code",
   "execution_count": null,
   "metadata": {
    "collapsed": true
   },
   "outputs": [],
   "source": []
  }
 ],
 "metadata": {
  "kernelspec": {
   "display_name": "Python 3",
   "language": "python",
   "name": "python3"
  },
  "language_info": {
   "codemirror_mode": {
    "name": "ipython",
    "version": 3
   },
   "file_extension": ".py",
   "mimetype": "text/x-python",
   "name": "python",
   "nbconvert_exporter": "python",
   "pygments_lexer": "ipython3",
   "version": "3.5.4"
  }
 },
 "nbformat": 4,
 "nbformat_minor": 2
}
