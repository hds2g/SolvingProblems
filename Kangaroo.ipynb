{
 "cells": [
  {
   "cell_type": "code",
   "execution_count": 21,
   "metadata": {
    "scrolled": false
   },
   "outputs": [
    {
     "name": "stdout",
     "output_type": "stream",
     "text": [
      "-4\n",
      "0\n",
      "YES\n"
     ]
    }
   ],
   "source": [
    "#!/bin/python3\n",
    "\n",
    "import math\n",
    "import os\n",
    "import random\n",
    "import re\n",
    "import sys\n",
    "\n",
    "# Complete the kangaroo function below.\n",
    "def kangaroo(x1, v1, x2, v2):\n",
    "    result = \"\"\n",
    "    \n",
    "    if x2 > x1 and v2 > v1:\n",
    "        result = \"NO\"\n",
    "    else:\n",
    "        '''\n",
    "        while 1:\n",
    "            x1 = x1+v1\n",
    "            x2 = x2+v2\n",
    "            print(\"%d %d\" %(x1, x2))\n",
    "            if x1 == x2:\n",
    "                result = \"YES\"\n",
    "                break\n",
    "        \n",
    "        if (x1-x2)%(v1-v2) == 0:\n",
    "            result = \"YES\"\n",
    "        '''\n",
    "        try:\n",
    "            q, r = divmod(x1-x2, v1-v2)\n",
    "            print(q)\n",
    "            print(r)\n",
    "            if abs(q) > 0 and r==0:\n",
    "                result = \"YES\"\n",
    "            else:\n",
    "                result = \"NO\"\n",
    "        except ZeroDivisionError:\n",
    "            result = \"NO\"\n",
    "            \n",
    "    return result\n",
    "\n",
    "if __name__ == '__main__':\n",
    "    \n",
    "\n",
    "    x1 = 0\n",
    "    v1 = 3\n",
    "\n",
    "    x2 = 4\n",
    "    v2 = 2\n",
    "\n",
    "    result = kangaroo(x1, v1, x2, v2)\n",
    "\n",
    "    print(result)"
   ]
  },
  {
   "cell_type": "raw",
   "metadata": {},
   "source": [
    "거리의 차이를 속도로 나누어서 떨어진다면(나머지가 없다면),\n",
    "거리의 차이는 속도의 배수이므로, 언젠가는 거리의 차이가 없어진다."
   ]
  }
 ],
 "metadata": {
  "kernelspec": {
   "display_name": "Python 3",
   "language": "python",
   "name": "python3"
  },
  "language_info": {
   "codemirror_mode": {
    "name": "ipython",
    "version": 3
   },
   "file_extension": ".py",
   "mimetype": "text/x-python",
   "name": "python",
   "nbconvert_exporter": "python",
   "pygments_lexer": "ipython3",
   "version": "3.5.4"
  }
 },
 "nbformat": 4,
 "nbformat_minor": 2
}
