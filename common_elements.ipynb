{
 "cells": [
  {
   "cell_type": "code",
   "execution_count": 12,
   "metadata": {},
   "outputs": [
    {
     "name": "stdout",
     "output_type": "stream",
     "text": [
      "[]\n"
     ]
    }
   ],
   "source": [
    "# Implement your function below.\n",
    "def common_elements(list1, list2):\n",
    "    result = []\n",
    "    hash = {}\n",
    "    for a in list1:\n",
    "        if a not in hash:\n",
    "            hash[a] = 1\n",
    "    \n",
    "    for b in list2:\n",
    "        if b in hash:\n",
    "            hash[b] = hash[b] + 1\n",
    "    \n",
    "    for item,val in hash.items():\n",
    "        if val >= 2:\n",
    "            result.append(item)\n",
    "    return result\n",
    "\n",
    "\n",
    "# NOTE: The following input values will be used for testing your solution.\n",
    "list_a1 = [1, 3, 4, 6, 7, 9]\n",
    "list_a2 = [1, 2, 4, 5, 9, 10]\n",
    "# common_elements(list_a1, list_a2) should return [1, 4, 9] (a list).\n",
    "\n",
    "list_b1 = [1, 2, 9, 10, 11, 12]\n",
    "list_b2 = [0, 1, 2, 3, 4, 5, 8, 9, 10, 12, 14, 15]\n",
    "# common_elements(list_b1, list_b2) should return [1, 2, 9, 10, 12] (a list).\n",
    "\n",
    "list_c1 = [0, 1, 2, 3, 4, 5]\n",
    "list_c2 = [6, 7, 8, 9, 10, 11]\n",
    "# common_elements(list_b1, list_b2) should return [] (an empty list).\n",
    "\n",
    "print(common_elements(list_c1, list_c2))"
   ]
  },
  {
   "cell_type": "code",
   "execution_count": 17,
   "metadata": {},
   "outputs": [
    {
     "name": "stdout",
     "output_type": "stream",
     "text": [
      "[1, 2, 9, 10, 12]\n"
     ]
    }
   ],
   "source": [
    "def common_elements(list1, list2):\n",
    "    p1 = 0\n",
    "    p2 = 0\n",
    "    result = []\n",
    "    while p1 < len(list1) and p2 < len(list2):\n",
    "        if list1[p1] == list2[p2]:\n",
    "            result.append(list1[p1])\n",
    "            p1 += 1\n",
    "            p2 += 1\n",
    "        elif list1[p1] > list2[p2]:\n",
    "            p2 += 1\n",
    "        else:\n",
    "            p1 += 1\n",
    "    return result\n",
    "\n",
    "\n",
    "# NOTE: The following input values will be used for testing your solution.\n",
    "list_a1 = [1, 3, 4, 6, 7, 9]\n",
    "list_a2 = [1, 2, 4, 5, 9, 10]\n",
    "# common_elements(list_a1, list_a2) should return [1, 4, 9] (a list).\n",
    "\n",
    "list_b1 = [1, 2, 9, 10, 11, 12]\n",
    "list_b2 = [0, 1, 2, 3, 4, 5, 8, 9, 10, 12, 14, 15]\n",
    "# common_elements(list_b1, list_b2) should return [1, 2, 9, 10, 12] (a list).\n",
    "\n",
    "list_c1 = [0, 1, 2, 3, 4, 5]\n",
    "list_c2 = [6, 7, 8, 9, 10, 11]\n",
    "# common_elements(list_b1, list_b2) should return [] (an empty list).\n",
    "\n",
    "print(common_elements(list_b1, list_b2))"
   ]
  },
  {
   "cell_type": "code",
   "execution_count": null,
   "metadata": {
    "collapsed": true
   },
   "outputs": [],
   "source": []
  }
 ],
 "metadata": {
  "kernelspec": {
   "display_name": "Python 3",
   "language": "python",
   "name": "python3"
  },
  "language_info": {
   "codemirror_mode": {
    "name": "ipython",
    "version": 3
   },
   "file_extension": ".py",
   "mimetype": "text/x-python",
   "name": "python",
   "nbconvert_exporter": "python",
   "pygments_lexer": "ipython3",
   "version": "3.5.4"
  }
 },
 "nbformat": 4,
 "nbformat_minor": 2
}
