{
 "cells": [
  {
   "cell_type": "code",
   "execution_count": 1,
   "metadata": {},
   "outputs": [
    {
     "ename": "IndentationError",
     "evalue": "unindent does not match any outer indentation level (<tokenize>, line 29)",
     "output_type": "error",
     "traceback": [
      "\u001b[0;36m  File \u001b[0;32m\"<tokenize>\"\u001b[0;36m, line \u001b[0;32m29\u001b[0m\n\u001b[0;31m    END FOR\u001b[0m\n\u001b[0m    ^\u001b[0m\n\u001b[0;31mIndentationError\u001b[0m\u001b[0;31m:\u001b[0m unindent does not match any outer indentation level\n"
     ]
    }
   ],
   "source": [
    "Now we want to understand more about your programming skill.  \n",
    "Please have a look at the following pseudo-code.  \n",
    "Please note that the syntax may be completely different from any of programming languages you know.  \n",
    "More specifically, indentation does not matter in this code, \":=\" denotes the substitution, and \"=\" is the equal comparator.\n",
    "\n",
    "========\n",
    "Initial state of an array \"a\":\n",
    "\n",
    "[[2, NULL, 2, NULL], \n",
    " [2, NULL, 2, NULL], \n",
    " [NULL, NULL, NULL, NULL], \n",
    " [NULL, NULL, NULL, NULL]]\n",
    "\n",
    "========\n",
    "Main function:\n",
    "\n",
    "FUNCTION foo()\n",
    "    FOR y := 0 to 3 \n",
    "        FOR x := 0 to 3\n",
    "            IF a[x+1][y] != NULL\n",
    "                IF a[x+1][y] = a[x][y]\n",
    "                    a[x][y] := a[x][y]*2\n",
    "                    a[x+1][y] := NULL\n",
    "                END IF\n",
    "                IF a[x][y] = NULL\n",
    "                    a[x][y] := a[x+1][y]\n",
    "                    a[x+1][y] := NULL\n",
    "                END IF\n",
    "            END IF\n",
    "        END FOR\n",
    "   END FOR\n",
    "END FUNCTION\n",
    "\n",
    "1. What is the issue with the above code and how would you fix it? *\n",
    "-> x of below code will be out of range.\n",
    "OR x := 0 to 3\n",
    "need to change from 3 to 2 to avoid out of range index error.\n",
    "However, it's better to change code.\n",
    "FOR y := 0 to 3 -> FOR y:=0 to length(a[0]) (the number of column)\n",
    "    FOR x := 0 to 3 -> FOR x:=0 to length(a)-1 (the number of row)\n",
    "\n",
    "            \n",
    "2. Once corrected, what does function foo do? \n",
    "Please focus on the result of the function, not the details of the implementation. *\n",
    "-> move?\n",
    "\n",
    "3. How could you make foo more generic? \n",
    "Explain up to three possible generalization directions and describe a strategy for each, \n",
    "no need to write the code! *\n",
    "->\n",
    "1)assign length of a of row and column to x and y\n",
    "2)\"add two values\" -> set function parameter(option)\n",
    "  if no parameter, just overwrite\n",
    "3)rotation?"
   ]
  },
  {
   "cell_type": "code",
   "execution_count": 228,
   "metadata": {},
   "outputs": [],
   "source": [
    "def test(a):\n",
    "    for y in range(len(a[0])):\n",
    "        for x in range(len(a)-1):\n",
    "            if a[x+1][y] != None:\n",
    "                if a[x+1][y] == a[x][y]:\n",
    "                    a[x][y]=a[x][y]*2\n",
    "                    a[x+1][y] = None\n",
    "                if a[x][y] == None:\n",
    "                    a[x][y] = a[x+1][y]\n",
    "                    a[x+1][y] = None\n",
    "    return a"
   ]
  },
  {
   "cell_type": "code",
   "execution_count": 229,
   "metadata": {},
   "outputs": [
    {
     "data": {
      "text/plain": [
       "[[3], [3], [3], [None]]"
      ]
     },
     "execution_count": 229,
     "metadata": {},
     "output_type": "execute_result"
    }
   ],
   "source": [
    "c = [[None],\n",
    "     [3],\n",
    "     [3],\n",
    "     [3]]\n",
    "\n",
    "foo(c)"
   ]
  },
  {
   "cell_type": "code",
   "execution_count": 226,
   "metadata": {},
   "outputs": [
    {
     "name": "stdout",
     "output_type": "stream",
     "text": [
      "[[4], [4], [None], [None]]\n"
     ]
    }
   ],
   "source": [
    "a = [[4], [2], [2], [None]]\n",
    "\n",
    "print(foo(a))\n",
    "\n",
    "\n"
   ]
  },
  {
   "cell_type": "code",
   "execution_count": 147,
   "metadata": {},
   "outputs": [
    {
     "name": "stdout",
     "output_type": "stream",
     "text": [
      "[[8], [None], [None], [None]]\n"
     ]
    }
   ],
   "source": [
    "a = [[4], [4], [None], [None]]\n",
    "\n",
    "\n",
    "print(foo(a))\n",
    "\n"
   ]
  },
  {
   "cell_type": "code",
   "execution_count": 231,
   "metadata": {},
   "outputs": [
    {
     "data": {
      "text/plain": [
       "[[4, None, 4, None],\n",
       " [None, None, None, None],\n",
       " [None, None, None, None],\n",
       " [None, None, None, None]]"
      ]
     },
     "execution_count": 231,
     "metadata": {},
     "output_type": "execute_result"
    }
   ],
   "source": [
    "b = [[2, None, 2, None],\n",
    "     [2, None, 2, None],\n",
    "     [None, None, None, None],\n",
    "     [None, None, None, None]]\n",
    "foo(b)"
   ]
  },
  {
   "cell_type": "code",
   "execution_count": null,
   "metadata": {
    "collapsed": true
   },
   "outputs": [],
   "source": []
  },
  {
   "cell_type": "code",
   "execution_count": 235,
   "metadata": {
    "collapsed": true
   },
   "outputs": [],
   "source": [
    "def foo(a):\n",
    "    for y in range(4):\n",
    "        for x in range(3):\n",
    "            if a[x+1][y] != None:\n",
    "                if a[x+1][y] == a[x][y]:\n",
    "                    a[x][y]=a[x][y]*2\n",
    "                    a[x+1][y] = None\n",
    "                if a[x][y] == None:\n",
    "                    a[x][y] = a[x+1][y]\n",
    "                    a[x+1][y] = None\n",
    "\n",
    "    return a\n",
    "            "
   ]
  },
  {
   "cell_type": "code",
   "execution_count": 236,
   "metadata": {},
   "outputs": [
    {
     "data": {
      "text/plain": [
       "[[4, None, 4, None],\n",
       " [2, None, 2, None],\n",
       " [2, None, 2, None],\n",
       " [None, None, None, None]]"
      ]
     },
     "execution_count": 236,
     "metadata": {},
     "output_type": "execute_result"
    }
   ],
   "source": [
    "\n",
    "\n",
    "a = [[2, None, 2, None],\n",
    "     [2, None, 2, None],\n",
    "     [2, None, 2, None],\n",
    "     [2, None, 2, None]]\n",
    "\n",
    "\n",
    "\n",
    "foo(a)"
   ]
  },
  {
   "cell_type": "code",
   "execution_count": 100,
   "metadata": {
    "collapsed": true
   },
   "outputs": [
    {
     "name": "stdout",
     "output_type": "stream",
     "text": [
      "1\n"
     ]
    }
   ],
   "source": [
    "print(a[0][0])"
   ]
  },
  {
   "cell_type": "code",
   "execution_count": 64,
   "metadata": {
    "collapsed": true
   },
   "outputs": [],
   "source": [
    "a = [[2, None, 2, None],\n",
    "     [None, None, None, None],\n",
    "     [None, None, None, None],\n",
    "     [None, None, None, None]]"
   ]
  },
  {
   "cell_type": "code",
   "execution_count": 65,
   "metadata": {},
   "outputs": [
    {
     "data": {
      "text/plain": [
       "4"
      ]
     },
     "execution_count": 65,
     "metadata": {},
     "output_type": "execute_result"
    }
   ],
   "source": [
    "len(a)"
   ]
  },
  {
   "cell_type": "code",
   "execution_count": 67,
   "metadata": {},
   "outputs": [
    {
     "data": {
      "text/plain": [
       "[2, None, 2, None]"
      ]
     },
     "execution_count": 67,
     "metadata": {},
     "output_type": "execute_result"
    }
   ],
   "source": [
    "a[0]"
   ]
  },
  {
   "cell_type": "markdown",
   "metadata": {},
   "source": [
    "What is the issue with the above code and how would you fix it? *\n",
    "There is one runtime error: out of range array. \n",
    "The error line is \"FOR x := 0 to 3\", it should be fixed to 'FOR x := 0 to 2'.\n",
    "(However, it's better to fix to 'the number of row of a array -1')\n",
    "Once corrected, what does function foo do? Please focus on the result of the function, not the details of the implementation. *\n",
    "It looks like moving function on 2-dimension array: \n",
    "if element of row is Null,  move to above row except the first two rows. \n",
    "\n",
    "\n",
    "How could you make foo more generic? Explain up to three possible generalization directions and describe a strategy for each, no need to write the code! *\n",
    "\n",
    "1. Change two 3(constant) to length of row and column of a array to process all 2-dimension array.\n",
    "2. As I answered above, foo function looks like moving except first two lines. Therefore, I will add one option parameter to on/off this exception.\n",
    "3. foo is only accept 2-dimension array, for generalization, I will change it to accept 1, 2, and 3-dimension array.\n"
   ]
  },
  {
   "cell_type": "code",
   "execution_count": null,
   "metadata": {
    "collapsed": true
   },
   "outputs": [],
   "source": []
  }
 ],
 "metadata": {
  "kernelspec": {
   "display_name": "Python 3",
   "language": "python",
   "name": "python3"
  },
  "language_info": {
   "codemirror_mode": {
    "name": "ipython",
    "version": 3
   },
   "file_extension": ".py",
   "mimetype": "text/x-python",
   "name": "python",
   "nbconvert_exporter": "python",
   "pygments_lexer": "ipython3",
   "version": "3.5.4"
  }
 },
 "nbformat": 4,
 "nbformat_minor": 2
}
