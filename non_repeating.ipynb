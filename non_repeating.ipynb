{
 "cells": [
  {
   "cell_type": "code",
   "execution_count": 18,
   "metadata": {},
   "outputs": [
    {
     "name": "stdout",
     "output_type": "stream",
     "text": [
      "c\n",
      "None\n",
      "c\n",
      "d\n"
     ]
    }
   ],
   "source": [
    "# Implement your function below.\n",
    "def non_repeating_old(given_string):\n",
    "    hash = {}\n",
    "    alphabet = \"abcdefghijklnmopqrsvtuwxyz\"\n",
    "    \n",
    "    for i in range(len(alphabet)):\n",
    "        hash[alphabet[i]] = 0\n",
    "    \n",
    "    for i in range(len(given_string)):\n",
    "        hash[given_string[i]] += 1\n",
    "        \n",
    "    for i in range(len(given_string)):\n",
    "        if hash[given_string[i]] is 1:\n",
    "            return given_string[i]\n",
    "        \n",
    "    return None\n",
    "\n",
    "def non_repeating_old2(given_string):\n",
    "    hash = {}\n",
    "    '''\n",
    "    alphabet = \"abcdefghijklnmopqrsvtuwxyz\"\n",
    "    \n",
    "    for i in range(len(alphabet)):\n",
    "        hash[alphabet[i]] = 0\n",
    "   '''\n",
    "    \n",
    "    for i in range(len(given_string)):\n",
    "        if given_string[i] not in hash:\n",
    "            hash[given_string[i]] = 1\n",
    "        else:\n",
    "            hash[given_string[i]] += 1\n",
    "        \n",
    "    for i in range(len(given_string)):\n",
    "        if hash[given_string[i]] is 1:\n",
    "            return given_string[i]\n",
    "        \n",
    "    return None\n",
    "\n",
    "def non_repeating(given_string):\n",
    "    hash = {}\n",
    "    \n",
    "    for i in given_string:\n",
    "        if i in hash:\n",
    "            hash[i] += 1\n",
    "        else:\n",
    "            hash[i] = 1\n",
    "        \n",
    "    for i in given_string:\n",
    "        if hash[i] is 1:\n",
    "            return i\n",
    "        \n",
    "    return None\n",
    "\n",
    "\n",
    "# NOTE: The following input values will be used for testing your solution.\n",
    "print(non_repeating(\"abcab\")) # should return 'c'\n",
    "print(non_repeating(\"abab\")) # should return None\n",
    "print(non_repeating(\"aabbbc\")) # should return 'c'\n",
    "print(non_repeating(\"aabbdbc\")) # should return 'd'"
   ]
  },
  {
   "cell_type": "code",
   "execution_count": null,
   "metadata": {
    "collapsed": true
   },
   "outputs": [],
   "source": []
  }
 ],
 "metadata": {
  "kernelspec": {
   "display_name": "Python 3",
   "language": "python",
   "name": "python3"
  },
  "language_info": {
   "codemirror_mode": {
    "name": "ipython",
    "version": 3
   },
   "file_extension": ".py",
   "mimetype": "text/x-python",
   "name": "python",
   "nbconvert_exporter": "python",
   "pygments_lexer": "ipython3",
   "version": "3.5.4"
  }
 },
 "nbformat": 4,
 "nbformat_minor": 2
}
